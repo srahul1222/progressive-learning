{
 "cells": [
  {
   "cell_type": "markdown",
   "metadata": {},
   "source": [
    "# Installation Tutorial\n",
    "This tutorial includes instruction on installation and package setup for the progressive learning repository. After following the steps below, you should have the progressive learning and necessary packages installed on your own machine.\n",
    "\n",
    "## 1. Installation\n",
    "### *Goal: Clone the repository on your local machine and understand what it includes*\n",
    "\n",
    "### Let's clone the repository\n",
    "Steps:\n",
    "1. Open the command line on your local machine (called \"Terminal\" on Mac)\n",
    "2. Navigate to the location where you'd like to put the repository.\n",
    "    1. Find a location in a file explorer (\"Finder\" on Mac)\n",
    "    2. Type \"cd \" in the command prompt\n",
    "    3. Drag and drop the folder where you'd like to place the repository from the file explorer to the command line\n",
    "    The command prompt should show something like:\n",
    "    `bstraus@BS-Mac ~ % cd /Users/bstraus/Desktop `\n",
    "3. Type `git clone REPOSITORY_URL` where `REPOSITORY_URL` is replaced by the URL of the neurodata/progressive-learning repository (as of 2020-09-21, it is https://github.com/neurodata/progressive-learning)\n",
    "4. Wait for the process to finish. You'll know it's done because you'll see the first part of the command prompt pop up. For me, that looks like: `bstraus@BS-Mac ~ %`\n",
    "\n",
    "Congrats! You've now cloned the progressive-learning repository.\n",
    "\n",
    "Last step here, install the package with:\n",
    "`python3 setup.py install`\n",
    "\n",
    "### Let's take a tour\n",
    "Currently, you're looking at this tutorial, which lives in progressive-learning/tutorials/.\n",
    "This folder also currently houses a notebook running one of the experiments.\n",
    "\n",
    "In the root directory, we have:\n",
    "* `progressive-learning/docs` : contains files that will tell you requirements (we'll use this later), contributing guidelines, and some other administrative files\n",
    "\n",
    "* `progressive-learning/experiments` : contains notebooks and results for many of the experiments that utilize the functions/classes in the repository\n",
    "\n",
    "* `progressive-learning/proglearn` : the heart of the repository containing the python files for the progressive learning classes. We'll focus on the UncertaintyForest class which lives in the `forest.py` file in this directory.\n",
    "\n",
    "* `progressive-learning/tests` : contains python files for various tests\n",
    "\n",
    "* `progressive-learning/tutorials` : contains python notebooks (like this one) that will guide you through using the classes in the repository and running the experiments\n",
    "\n",
    "In future notebooks of this tutorial, we'll discuss how to prepare to run the code for the UncertaintyForest class. That code lives in the `progressive-learning/proglearn/forest.py` file. \n",
    "\n",
    "But, for now, we'll prepare to do that by making a virtual environment and installing the required packages to run that code.\n",
    "\n",
    "### You're done with part 1 of the tutorial!\n",
    "\n",
    "### Move on to part 2 \n"
   ]
  },
  {
   "cell_type": "markdown",
   "metadata": {},
   "source": [
    "## 2: Package Setup\n",
    "### *Goal: Create a virtual environment and install requirements per requirements.txt in order to run the UncertaintyForest class*\n",
    "\n",
    "### First, let's create the virtual environment \n",
    "**Note:** that the following instructions were designed for Mac operating systems. If you're running another OS, look for the equivalent steps tailored to that OS.\n",
    "\n",
    "1. Open the command line on your local machine (called \"Terminal\" on Mac)\n",
    "2. Navigate to the location where you'd like to put the virtual environment.\n",
    "    1. Find a location in a file explorer (\"Finder\" on Mac)\n",
    "    2. Type \"cd \" in the command prompt\n",
    "    3. Drag and drop the folder where you'd like to place the virtual environment from the file explorer to the command line\n",
    "    The command prompt should show something like:\n",
    "    `bstraus@BS-Mac ~ % cd /Users/bstraus/Desktop `\n",
    "3. Create the virtual environment by typing `python3 -m venv UncertaintyForestEnv`\n",
    "\n",
    "### Next, let's install the requirements for running the UncertaintyForest class\n",
    "4. Activate the virtual environment by typing `source UncertaintyForestEnv/bin/activate`\n",
    "5. Navigate to the folder `progressive-learning/docs/`. You can do this with the same process as in step 2 above.\n",
    "5. Install necessary packages by typing `pip install -r requirements.txt`\n",
    "6. You'll also want to install the following packages by typing the code below:\n",
    "    1.`pip install jupyterlab`\n",
    "    2.`pip install notebook`\n",
    "    3.`pip install numpy scipy pandas scikit-learn matplotlib seaborn joblib keras tensorflow tqdm ipywidgets`\n",
    "\n",
    "You now have set up your virtual environment and installed necessary packages. Note that you'll need to activate your virtual environment each time you want to run things for this class. You can do this easily by repeating steps 1, 2, and 4.\n",
    "\n",
    "### You're done with part 2 of the tutorial!"
   ]
  },
  {
   "cell_type": "markdown",
   "metadata": {},
   "source": [
    "### The next steps depends on what you want to do. One possibility is to go through the tutorial for the UncertaintyForest class in the UncertaintyForestTutorials Folder"
   ]
  },
  {
   "cell_type": "code",
   "execution_count": null,
   "metadata": {},
   "outputs": [],
   "source": []
  }
 ],
 "metadata": {
  "kernelspec": {
   "display_name": "Python 3",
   "language": "python",
   "name": "python3"
  },
  "language_info": {
   "codemirror_mode": {
    "name": "ipython",
    "version": 3
   },
   "file_extension": ".py",
   "mimetype": "text/x-python",
   "name": "python",
   "nbconvert_exporter": "python",
   "pygments_lexer": "ipython3",
   "version": "3.9.0"
  }
 },
 "nbformat": 4,
 "nbformat_minor": 4
}
