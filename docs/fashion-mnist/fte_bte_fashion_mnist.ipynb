{
 "cells": [
  {
   "cell_type": "markdown",
   "metadata": {},
   "source": [
    "# FTE/BTE Experiment for Fashion-MNIST\n",
    "\n",
    "The progressive learning package utilizes representation ensembling algorithms to sequentially learn a representation for each task and ensemble both old and new representations for all future decisions. \n",
    "\n",
    "Here, a representation ensembling algorithm based on decision forests (Lifelong Forest) demonstrate forward and backward knowledge transfer of tasks on the Fashion-MNIST dataset. The experiment reproduces the benchmarking adversarial experiment ran in the paper \"A General Approach to Progressive Learning\" by Vogelstein, et al (2020). The following is a link to the aforementioned paper: https://arxiv.org/pdf/2004.12908.pdf  \n",
    "\n",
    "### Import necessary packages and modules"
   ]
  },
  {
   "cell_type": "code",
   "execution_count": 1,
   "metadata": {},
   "outputs": [],
   "source": [
    "import numpy as np\n",
    "import tensorflow as tf\n",
    "import keras\n",
    "import matplotlib.pyplot as plt"
   ]
  },
  {
   "cell_type": "markdown",
   "metadata": {},
   "source": [
    "### Load Fashion-MNIST data \n",
    "We load the Fashion-MNIST dataset from Keras, and store it in a variable. The training and test partitions are concatenated into one variable called `data_x`. The data is obtained from https://keras.io/api/datasets/fashion_mnist/."
   ]
  },
  {
   "cell_type": "code",
   "execution_count": 2,
   "metadata": {},
   "outputs": [
    {
     "data": {
      "text/plain": [
       "<matplotlib.image.AxesImage at 0x7f67692451c0>"
      ]
     },
     "execution_count": 2,
     "metadata": {},
     "output_type": "execute_result"
    },
    {
     "data": {
      "image/png": "[encoded data removed]",
      "text/plain": [
       "<Figure size 432x288 with 1 Axes>"
      ]
     },
     "metadata": {
      "needs_background": "light"
     },
     "output_type": "display_data"
    }
   ],
   "source": [
    "(X_train, y_train), (X_test, y_test) = tf.keras.datasets.fashion_mnist.load_data()\n",
    "data_x = np.concatenate([X_train, X_test])\n",
    "data_y = np.concatenate([y_train, y_test])\n",
    "plt.imshow(X_train[5])"
   ]
  },
  {
   "cell_type": "markdown",
   "metadata": {},
   "source": [
    "### Define hyperparameters for the model and preprocess data\n",
    "Running the cells below will define the hyperparameters the experimental setting \n",
    "\n",
    "`num_points_per_task`: The number of points per task "
   ]
  },
  {
   "cell_type": "code",
   "execution_count": 3,
   "metadata": {},
   "outputs": [],
   "source": [
    "num_points_per_task = 6000"
   ]
  },
  {
   "cell_type": "markdown",
   "metadata": {},
   "source": [
    "### Train the model and perform validation\n",
    "\n",
    "#### run_parallel_exp: \n",
    "Wrapper method for the `LF_experiment` function which declares and trains the model, and performs validation with respect to the test data to compute the error of the model at a particular iteration"
   ]
  },
  {
   "cell_type": "code",
   "execution_count": 4,
   "metadata": {},
   "outputs": [
    {
     "name": "stdout",
     "output_type": "stream",
     "text": [
      "Starting Task 0 For Fold 1 For Slot 0\n",
      "Accuracy Across Tasks: [0.97]\n",
      "Starting Task 1 For Fold 1 For Slot 0\n",
      "Accuracy Across Tasks: [0.97, 0.969]\n",
      "Starting Task 2 For Fold 1 For Slot 0\n",
      "Accuracy Across Tasks: [0.97, 0.969, 0.97]\n",
      "Starting Task 3 For Fold 1 For Slot 0\n",
      "Accuracy Across Tasks: [0.97, 0.969, 0.97, 0.966]\n",
      "Starting Task 4 For Fold 1 For Slot 0\n",
      "Accuracy Across Tasks: [0.97, 0.969, 0.97, 0.966, 0.962]\n",
      "Starting Task 0 For Fold 1 For Slot 0\n",
      "Accuracy Across Tasks: [0.935]\n",
      "Starting Task 1 For Fold 1 For Slot 0\n",
      "Accuracy Across Tasks: [0.935, 0.941]\n",
      "Starting Task 2 For Fold 1 For Slot 0\n",
      "Accuracy Across Tasks: [0.935, 0.941, 0.945]\n",
      "Starting Task 3 For Fold 1 For Slot 0\n",
      "Accuracy Across Tasks: [0.935, 0.941, 0.945, 0.949]\n",
      "Starting Task 4 For Fold 1 For Slot 0\n",
      "Accuracy Across Tasks: [0.935, 0.941, 0.945, 0.949, 0.938]\n",
      "Starting Task 0 For Fold 1 For Slot 0\n",
      "Accuracy Across Tasks: [0.827]\n",
      "Starting Task 1 For Fold 1 For Slot 0\n",
      "Accuracy Across Tasks: [0.827, 0.819]\n",
      "Starting Task 2 For Fold 1 For Slot 0\n",
      "Accuracy Across Tasks: [0.827, 0.819, 0.821]\n",
      "Starting Task 3 For Fold 1 For Slot 0\n",
      "Accuracy Across Tasks: [0.827, 0.819, 0.821, 0.836]\n",
      "Starting Task 4 For Fold 1 For Slot 0\n",
      "Accuracy Across Tasks: [0.827, 0.819, 0.821, 0.836, 0.844]\n",
      "Starting Task 0 For Fold 1 For Slot 0\n",
      "Accuracy Across Tasks: [0.936]\n",
      "Starting Task 1 For Fold 1 For Slot 0\n",
      "Accuracy Across Tasks: [0.936, 0.938]\n",
      "Starting Task 2 For Fold 1 For Slot 0\n",
      "Accuracy Across Tasks: [0.936, 0.938, 0.947]\n",
      "Starting Task 3 For Fold 1 For Slot 0\n",
      "Accuracy Across Tasks: [0.936, 0.938, 0.947, 0.946]\n",
      "Starting Task 4 For Fold 1 For Slot 0\n",
      "Accuracy Across Tasks: [0.936, 0.938, 0.947, 0.946, 0.944]\n",
      "Starting Task 0 For Fold 1 For Slot 0\n",
      "Accuracy Across Tasks: [0.95]\n",
      "Starting Task 1 For Fold 1 For Slot 0\n",
      "Accuracy Across Tasks: [0.95, 0.951]\n",
      "Starting Task 2 For Fold 1 For Slot 0\n",
      "Accuracy Across Tasks: [0.95, 0.951, 0.959]\n",
      "Starting Task 3 For Fold 1 For Slot 0\n",
      "Accuracy Across Tasks: [0.95, 0.951, 0.959, 0.959]\n",
      "Starting Task 4 For Fold 1 For Slot 0\n",
      "Accuracy Across Tasks: [0.95, 0.951, 0.959, 0.959, 0.953]\n",
      "Starting Task 0 For Fold 1 For Slot 0\n",
      "Accuracy Across Tasks: [0.916]\n",
      "Starting Task 1 For Fold 1 For Slot 0\n",
      "Accuracy Across Tasks: [0.916, 0.868]\n",
      "Starting Task 2 For Fold 1 For Slot 0\n",
      "Accuracy Across Tasks: [0.916, 0.868, 0.87]\n",
      "Starting Task 3 For Fold 1 For Slot 0\n",
      "Accuracy Across Tasks: [0.916, 0.868, 0.87, 0.879]\n",
      "Starting Task 4 For Fold 1 For Slot 0\n",
      "Accuracy Across Tasks: [0.916, 0.868, 0.87, 0.879, 0.874]\n",
      "Starting Task 0 For Fold 1 For Slot 0\n",
      "Accuracy Across Tasks: [0.847]\n",
      "Starting Task 1 For Fold 1 For Slot 0\n",
      "Accuracy Across Tasks: [0.847, 0.838]\n",
      "Starting Task 2 For Fold 1 For Slot 0\n",
      "Accuracy Across Tasks: [0.847, 0.838, 0.852]\n",
      "Starting Task 3 For Fold 1 For Slot 0\n",
      "Accuracy Across Tasks: [0.847, 0.838, 0.852, 0.866]\n",
      "Starting Task 4 For Fold 1 For Slot 0\n",
      "Accuracy Across Tasks: [0.847, 0.838, 0.852, 0.866, 0.88]\n",
      "Starting Task 0 For Fold 1 For Slot 0\n",
      "Accuracy Across Tasks: [0.95]\n",
      "Starting Task 1 For Fold 1 For Slot 0\n",
      "Accuracy Across Tasks: [0.95, 0.93]\n",
      "Starting Task 2 For Fold 1 For Slot 0\n",
      "Accuracy Across Tasks: [0.95, 0.93, 0.943]\n",
      "Starting Task 3 For Fold 1 For Slot 0\n",
      "Accuracy Across Tasks: [0.95, 0.93, 0.943, 0.946]\n",
      "Starting Task 4 For Fold 1 For Slot 0\n",
      "Accuracy Across Tasks: [0.95, 0.93, 0.943, 0.946, 0.934]\n",
      "Starting Task 0 For Fold 1 For Slot 0\n",
      "Accuracy Across Tasks: [0.982]\n",
      "Starting Task 1 For Fold 1 For Slot 0\n",
      "Accuracy Across Tasks: [0.982, 0.982]\n",
      "Starting Task 2 For Fold 1 For Slot 0\n",
      "Accuracy Across Tasks: [0.982, 0.982, 0.984]\n",
      "Starting Task 3 For Fold 1 For Slot 0\n",
      "Accuracy Across Tasks: [0.982, 0.982, 0.984, 0.985]\n",
      "Starting Task 4 For Fold 1 For Slot 0\n",
      "Accuracy Across Tasks: [0.982, 0.982, 0.984, 0.985, 0.985]\n",
      "Starting Task 0 For Fold 1 For Slot 0\n",
      "Accuracy Across Tasks: [0.968]\n",
      "Starting Task 1 For Fold 1 For Slot 0\n",
      "Accuracy Across Tasks: [0.968, 0.958]\n",
      "Starting Task 2 For Fold 1 For Slot 0\n",
      "Accuracy Across Tasks: [0.968, 0.958, 0.964]\n",
      "Starting Task 3 For Fold 1 For Slot 0\n",
      "Accuracy Across Tasks: [0.968, 0.958, 0.964, 0.966]\n",
      "Starting Task 4 For Fold 1 For Slot 0\n",
      "Accuracy Across Tasks: [0.968, 0.958, 0.964, 0.966, 0.937]\n",
      "Starting Task 0 For Fold 1 For Slot 0\n",
      "Accuracy Across Tasks: [0.925]\n",
      "Starting Task 1 For Fold 1 For Slot 0\n",
      "Accuracy Across Tasks: [0.925, 0.914]\n",
      "Starting Task 2 For Fold 1 For Slot 0\n",
      "Accuracy Across Tasks: [0.925, 0.914, 0.924]\n",
      "Starting Task 3 For Fold 1 For Slot 0\n",
      "Accuracy Across Tasks: [0.925, 0.914, 0.924, 0.925]\n",
      "Starting Task 4 For Fold 1 For Slot 0\n",
      "Accuracy Across Tasks: [0.925, 0.914, 0.924, 0.925, 0.935]\n",
      "Starting Task 0 For Fold 1 For Slot 0\n",
      "Accuracy Across Tasks: [0.885]\n",
      "Starting Task 1 For Fold 1 For Slot 0\n",
      "Accuracy Across Tasks: [0.885, 0.892]\n",
      "Starting Task 2 For Fold 1 For Slot 0\n",
      "Accuracy Across Tasks: [0.885, 0.892, 0.909]\n",
      "Starting Task 3 For Fold 1 For Slot 0\n",
      "Accuracy Across Tasks: [0.885, 0.892, 0.909, 0.927]\n",
      "Starting Task 4 For Fold 1 For Slot 0\n",
      "Accuracy Across Tasks: [0.885, 0.892, 0.909, 0.927, 0.92]\n",
      "Starting Task 0 For Fold 1 For Slot 0\n",
      "Accuracy Across Tasks: [0.887]\n",
      "Starting Task 1 For Fold 1 For Slot 0\n",
      "Accuracy Across Tasks: [0.887, 0.879]\n",
      "Starting Task 2 For Fold 1 For Slot 0\n",
      "Accuracy Across Tasks: [0.887, 0.879, 0.902]\n",
      "Starting Task 3 For Fold 1 For Slot 0\n",
      "Accuracy Across Tasks: [0.887, 0.879, 0.902, 0.897]\n",
      "Starting Task 4 For Fold 1 For Slot 0\n",
      "Accuracy Across Tasks: [0.887, 0.879, 0.902, 0.897, 0.922]\n",
      "Starting Task 0 For Fold 1 For Slot 0\n",
      "Accuracy Across Tasks: [0.928]\n",
      "Starting Task 1 For Fold 1 For Slot 0\n",
      "Accuracy Across Tasks: [0.928, 0.919]\n",
      "Starting Task 2 For Fold 1 For Slot 0\n",
      "Accuracy Across Tasks: [0.928, 0.919, 0.928]\n",
      "Starting Task 3 For Fold 1 For Slot 0\n",
      "Accuracy Across Tasks: [0.928, 0.919, 0.928, 0.94]\n",
      "Starting Task 4 For Fold 1 For Slot 0\n",
      "Accuracy Across Tasks: [0.928, 0.919, 0.928, 0.94, 0.947]\n",
      "Starting Task 0 For Fold 1 For Slot 0\n",
      "Accuracy Across Tasks: [0.967]\n",
      "Starting Task 1 For Fold 1 For Slot 0\n",
      "Accuracy Across Tasks: [0.967, 0.948]\n",
      "Starting Task 2 For Fold 1 For Slot 0\n",
      "Accuracy Across Tasks: [0.967, 0.948, 0.958]\n",
      "Starting Task 3 For Fold 1 For Slot 0\n",
      "Accuracy Across Tasks: [0.967, 0.948, 0.958, 0.958]\n",
      "Starting Task 4 For Fold 1 For Slot 0\n",
      "Accuracy Across Tasks: [0.967, 0.948, 0.958, 0.958, 0.94]\n",
      "Starting Task 0 For Fold 1 For Slot 0\n",
      "Accuracy Across Tasks: [0.84]\n",
      "Starting Task 1 For Fold 1 For Slot 0\n",
      "Accuracy Across Tasks: [0.84, 0.817]\n",
      "Starting Task 2 For Fold 1 For Slot 0\n",
      "Accuracy Across Tasks: [0.84, 0.817, 0.852]\n",
      "Starting Task 3 For Fold 1 For Slot 0\n",
      "Accuracy Across Tasks: [0.84, 0.817, 0.852, 0.852]\n",
      "Starting Task 4 For Fold 1 For Slot 0\n",
      "Accuracy Across Tasks: [0.84, 0.817, 0.852, 0.852, 0.87]\n",
      "Starting Task 0 For Fold 1 For Slot 0\n",
      "Accuracy Across Tasks: [0.982]\n",
      "Starting Task 1 For Fold 1 For Slot 0\n",
      "Accuracy Across Tasks: [0.982, 0.981]\n",
      "Starting Task 2 For Fold 1 For Slot 0\n",
      "Accuracy Across Tasks: [0.982, 0.981, 0.98]\n",
      "Starting Task 3 For Fold 1 For Slot 0\n",
      "Accuracy Across Tasks: [0.982, 0.981, 0.98, 0.979]\n",
      "Starting Task 4 For Fold 1 For Slot 0\n",
      "Accuracy Across Tasks: [0.982, 0.981, 0.98, 0.979, 0.978]\n",
      "Starting Task 0 For Fold 1 For Slot 0\n",
      "Accuracy Across Tasks: [0.864]\n",
      "Starting Task 1 For Fold 1 For Slot 0\n",
      "Accuracy Across Tasks: [0.864, 0.855]\n",
      "Starting Task 2 For Fold 1 For Slot 0\n",
      "Accuracy Across Tasks: [0.864, 0.855, 0.891]\n",
      "Starting Task 3 For Fold 1 For Slot 0\n",
      "Accuracy Across Tasks: [0.864, 0.855, 0.891, 0.888]\n",
      "Starting Task 4 For Fold 1 For Slot 0\n",
      "Accuracy Across Tasks: [0.864, 0.855, 0.891, 0.888, 0.896]\n",
      "Starting Task 0 For Fold 1 For Slot 0\n",
      "Accuracy Across Tasks: [0.941]\n",
      "Starting Task 1 For Fold 1 For Slot 0\n",
      "Accuracy Across Tasks: [0.941, 0.928]\n",
      "Starting Task 2 For Fold 1 For Slot 0\n",
      "Accuracy Across Tasks: [0.941, 0.928, 0.932]\n",
      "Starting Task 3 For Fold 1 For Slot 0\n",
      "Accuracy Across Tasks: [0.941, 0.928, 0.932, 0.928]\n",
      "Starting Task 4 For Fold 1 For Slot 0\n",
      "Accuracy Across Tasks: [0.941, 0.928, 0.932, 0.928, 0.924]\n",
      "[0    0.970\n",
      "1    0.969\n",
      "2    0.970\n",
      "3    0.966\n",
      "4    0.962\n",
      "Name: task_1_accuracy, dtype: float64, 0    0.935\n",
      "1    0.941\n",
      "2    0.945\n",
      "3    0.949\n",
      "4    0.938\n",
      "Name: task_1_accuracy, dtype: float64, 0    0.827\n",
      "1    0.819\n",
      "2    0.821\n",
      "3    0.836\n",
      "4    0.844\n",
      "Name: task_1_accuracy, dtype: float64, 0    0.936\n",
      "1    0.938\n",
      "2    0.947\n",
      "3    0.946\n",
      "4    0.944\n",
      "Name: task_1_accuracy, dtype: float64, 0    0.950\n",
      "1    0.951\n",
      "2    0.959\n",
      "3    0.959\n",
      "4    0.953\n",
      "Name: task_1_accuracy, dtype: float64, 0    0.916\n",
      "1    0.868\n",
      "2    0.870\n",
      "3    0.879\n",
      "4    0.874\n",
      "Name: task_1_accuracy, dtype: float64, 0    0.847\n",
      "1    0.838\n",
      "2    0.852\n",
      "3    0.866\n",
      "4    0.880\n",
      "Name: task_1_accuracy, dtype: float64, 0    0.950\n",
      "1    0.930\n",
      "2    0.943\n",
      "3    0.946\n",
      "4    0.934\n",
      "Name: task_1_accuracy, dtype: float64, 0    0.982\n",
      "1    0.982\n",
      "2    0.984\n",
      "3    0.985\n",
      "4    0.985\n",
      "Name: task_1_accuracy, dtype: float64, 0    0.968\n",
      "1    0.958\n",
      "2    0.964\n",
      "3    0.966\n",
      "4    0.937\n",
      "Name: task_1_accuracy, dtype: float64, 0    0.925\n",
      "1    0.914\n",
      "2    0.924\n",
      "3    0.925\n",
      "4    0.935\n",
      "Name: task_1_accuracy, dtype: float64, 0    0.885\n",
      "1    0.892\n",
      "2    0.909\n",
      "3    0.927\n",
      "4    0.920\n",
      "Name: task_1_accuracy, dtype: float64, 0    0.887\n",
      "1    0.879\n",
      "2    0.902\n",
      "3    0.897\n",
      "4    0.922\n",
      "Name: task_1_accuracy, dtype: float64, 0    0.928\n",
      "1    0.919\n",
      "2    0.928\n",
      "3    0.940\n",
      "4    0.947\n",
      "Name: task_1_accuracy, dtype: float64, 0    0.967\n",
      "1    0.948\n",
      "2    0.958\n",
      "3    0.958\n",
      "4    0.940\n",
      "Name: task_1_accuracy, dtype: float64, 0    0.840\n",
      "1    0.817\n",
      "2    0.852\n",
      "3    0.852\n",
      "4    0.870\n",
      "Name: task_1_accuracy, dtype: float64, 0    0.982\n",
      "1    0.981\n",
      "2    0.980\n",
      "3    0.979\n",
      "4    0.978\n",
      "Name: task_1_accuracy, dtype: float64, 0    0.864\n",
      "1    0.855\n",
      "2    0.891\n",
      "3    0.888\n",
      "4    0.896\n",
      "Name: task_1_accuracy, dtype: float64, 0    0.941\n",
      "1    0.928\n",
      "2    0.932\n",
      "3    0.928\n",
      "4    0.924\n",
      "Name: task_1_accuracy, dtype: float64]\n"
     ]
    }
   ],
   "source": [
    "from functions.fte_bte_fashion_mnist_functions import run_parallel_exp\n",
    "acc = []\n",
    "for rep in range(1,20):\n",
    "    df_list = run_parallel_exp(data_x, data_y, num_points_per_task)\n",
    "    acc.append(df_list[\"task_1_accuracy\"],)\n",
    "print(acc)"
   ]
  },
  {
   "cell_type": "code",
   "execution_count": 21,
   "metadata": {},
   "outputs": [
    {
     "name": "stdout",
     "output_type": "stream",
     "text": [
      "[0.9210526315789473, 0.9119473684210527, 0.9226842105263156, 0.9258947368421054, 0.9254210526315788]\n"
     ]
    }
   ],
   "source": [
    "acc_x = []\n",
    "acc_y = []\n",
    "for y in range(0,5):\n",
    "    for x in range(0,19):\n",
    "        acc_x.append(acc[x][y])\n",
    "    acc_y.append(np.mean(acc_x))\n",
    "    acc_x = []\n",
    "print(acc_y)"
   ]
  },
  {
   "cell_type": "markdown",
   "metadata": {},
   "source": [
    "### Function to calculate backward transfer efficiency\n",
    "\n",
    "The backward transfer efficiency of $f_n$ for task $t$ given $n$ samples is \n",
    "$$BTE^t (f_n) := \\mathbb{E} [R^t (f_n^{<t} )/R^t (f_n)]$$\n",
    "\n",
    "We say an algorithm achieves backward transfer for task $t$ if and only if $BTE^t(f_n) > 1$. Intuitively, this means that the progressive learner has used data associated with new tasks to improve performance on previous tasks. \n",
    "\n",
    "#### calc_bte:\n",
    "Function used to calculate bte across tasks, averaged across all shifts and folds"
   ]
  },
  {
   "cell_type": "code",
   "execution_count": 22,
   "metadata": {},
   "outputs": [
    {
     "name": "stdout",
     "output_type": "stream",
     "text": [
      "[1.         0.99011429 1.00177143 1.00525714 1.00474286]\n"
     ]
    }
   ],
   "source": [
    "from functions.fte_bte_fashion_mnist_functions import calc_bte\n",
    "\n",
    "#btes = calc_bte(df_list, 1, 1)\n",
    "#btes = df_list[\"task_1_accuracy\"]/df_list[\"task_1_accuracy\"][0]\n",
    "btes = acc_y/acc_y[0]\n",
    "print(btes)"
   ]
  },
  {
   "cell_type": "markdown",
   "metadata": {},
   "source": [
    "### Plotting the backward transfer efficiency\n",
    "Run cell to generate plot of backward transfer efficiency of the Lifelong Classification Forest algorithm. We see that we achieve backwards transfer overall that increases as more tasks are seen.\n",
    "\n",
    "#### plot_bte:\n",
    "Function used to plot bte across tasks"
   ]
  },
  {
   "cell_type": "code",
   "execution_count": 23,
   "metadata": {},
   "outputs": [
    {
     "data": {
      "image/png": "[encoded data removed]",
      "text/plain": [
       "<Figure size 720x576 with 1 Axes>"
      ]
     },
     "metadata": {
      "needs_background": "light"
     },
     "output_type": "display_data"
    }
   ],
   "source": [
    "from functions.fte_bte_fashion_mnist_functions import plot_bte\n",
    "\n",
    "plot_bte(btes)"
   ]
  }
 ],
 "metadata": {
  "kernelspec": {
   "display_name": "Python 3",
   "language": "python",
   "name": "python3"
  },
  "language_info": {
   "codemirror_mode": {
    "name": "ipython",
    "version": 3
   },
   "file_extension": ".py",
   "mimetype": "text/x-python",
   "name": "python",
   "nbconvert_exporter": "python",
   "pygments_lexer": "ipython3",
   "version": "3.8.2"
  }
 },
 "nbformat": 4,
 "nbformat_minor": 2
}
