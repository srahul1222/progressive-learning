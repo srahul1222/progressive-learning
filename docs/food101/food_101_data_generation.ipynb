{
 "cells": [
  {
   "cell_type": "markdown",
   "metadata": {},
   "source": [
    "### food-101 Data Generation\n",
    "\n",
    "The food-101 dataset was downloaded and preprocessed (images were padded and resized) by running the algorithms found in https://github.com/neurodata/LLF_tidy_images. This notebook serves to take those processed images and convert them into numpy arrays that can be read and used by the progressive learning algorithms."
   ]
  },
  {
   "cell_type": "code",
   "execution_count": 1,
   "metadata": {},
   "outputs": [],
   "source": [
    "# Download all necessary packages\n",
    "import numpy as np\n",
    "import os\n",
    "import matplotlib.pyplot as plt"
   ]
  },
  {
   "cell_type": "code",
   "execution_count": 2,
   "metadata": {},
   "outputs": [],
   "source": [
    "# Load data set\n",
    "data_dir = \"food-101_dataset/images/\"\n",
    "foods_sorted = sorted(os.listdir(data_dir))"
   ]
  },
  {
   "cell_type": "markdown",
   "metadata": {},
   "source": [
    "Start reading the image data into numpy arrays. Only the first 100 out of the 101 sorted food classes will be used in order to make it easier to split up the samples into tasks later on."
   ]
  },
  {
   "cell_type": "code",
   "execution_count": 3,
   "metadata": {},
   "outputs": [
    {
     "name": "stdout",
     "output_type": "stream",
     "text": [
      "(1000, 32, 32, 3)\n"
     ]
    }
   ],
   "source": [
    "# Initialize data_x1 with the first image in the first class, then concatenate to acquire all images from the first class\n",
    "food_class = os.listdir(os.path.join(data_dir,foods_sorted[0]))\n",
    "data_x1 = [plt.imread(os.path.join(data_dir, foods_sorted[0], food_class[0]))]\n",
    "\n",
    "for i in range(1,1000):\n",
    "        data_x1 = np.concatenate([data_x1, [(plt.imread(os.path.join(data_dir, foods_sorted[0], food_class[i])))]])\n",
    "\n",
    "print(data_x1.shape)"
   ]
  },
  {
   "cell_type": "code",
   "execution_count": 4,
   "metadata": {},
   "outputs": [
    {
     "name": "stdout",
     "output_type": "stream",
     "text": [
      "(10000, 32, 32, 3)\n"
     ]
    }
   ],
   "source": [
    "# Add to the data_x1 array initialized in the previous cell block until it contains all images from the first 10 classes\n",
    "# Concatenating more than 10000 images per batch increases the run time by a lot\n",
    "for j in range(1,10):\n",
    "    food_class = os.listdir(os.path.join(data_dir,foods_sorted[j]))\n",
    "    for i in range(0,1000):\n",
    "        data_x1 = np.concatenate([data_x1, [(plt.imread(os.path.join(data_dir, foods_sorted[j], food_class[i])))]])\n",
    "        \n",
    "print(data_x1.shape)"
   ]
  },
  {
   "cell_type": "markdown",
   "metadata": {},
   "source": [
    "This process of initializing each x data array with some images and then concatenating to get the next batch of 10000 images is repeated 10 times, resulting in 10 numpy arrays each containing all the images from 10 of the food-101 classes."
   ]
  },
  {
   "cell_type": "code",
   "execution_count": 5,
   "metadata": {},
   "outputs": [
    {
     "name": "stdout",
     "output_type": "stream",
     "text": [
      "(1000, 32, 32, 3)\n"
     ]
    }
   ],
   "source": [
    "food_class = os.listdir(os.path.join(data_dir,foods_sorted[10]))\n",
    "data_x2 = [plt.imread(os.path.join(data_dir, foods_sorted[10], food_class[0]))]\n",
    "\n",
    "for i in range(1,1000):\n",
    "        data_x2 = np.concatenate([data_x2, [(plt.imread(os.path.join(data_dir, foods_sorted[10], food_class[i])))]])\n",
    "\n",
    "print(data_x2.shape)"
   ]
  },
  {
   "cell_type": "code",
   "execution_count": 6,
   "metadata": {},
   "outputs": [
    {
     "name": "stdout",
     "output_type": "stream",
     "text": [
      "(10000, 32, 32, 3)\n"
     ]
    }
   ],
   "source": [
    "for j in range(11,20):\n",
    "    food_class = os.listdir(os.path.join(data_dir,foods_sorted[j]))\n",
    "    for i in range(0,1000):\n",
    "        data_x2 = np.concatenate([data_x2, [(plt.imread(os.path.join(data_dir, foods_sorted[j], food_class[i])))]])\n",
    "        \n",
    "print(data_x2.shape)"
   ]
  },
  {
   "cell_type": "code",
   "execution_count": 7,
   "metadata": {},
   "outputs": [
    {
     "name": "stdout",
     "output_type": "stream",
     "text": [
      "(1000, 32, 32, 3)\n"
     ]
    }
   ],
   "source": [
    "food_class = os.listdir(os.path.join(data_dir,foods_sorted[20]))\n",
    "data_x3 = [plt.imread(os.path.join(data_dir, foods_sorted[20], food_class[0]))]\n",
    "\n",
    "for i in range(1,1000):\n",
    "        data_x3 = np.concatenate([data_x3, [(plt.imread(os.path.join(data_dir, foods_sorted[20], food_class[i])))]])\n",
    "\n",
    "print(data_x3.shape)"
   ]
  },
  {
   "cell_type": "code",
   "execution_count": 8,
   "metadata": {},
   "outputs": [
    {
     "name": "stdout",
     "output_type": "stream",
     "text": [
      "(10000, 32, 32, 3)\n"
     ]
    }
   ],
   "source": [
    "for j in range(21,30):\n",
    "    food_class = os.listdir(os.path.join(data_dir,foods_sorted[j]))\n",
    "    for i in range(0,1000):\n",
    "        data_x3 = np.concatenate([data_x3, [(plt.imread(os.path.join(data_dir, foods_sorted[j], food_class[i])))]])\n",
    "        \n",
    "print(data_x3.shape)"
   ]
  },
  {
   "cell_type": "code",
   "execution_count": 9,
   "metadata": {},
   "outputs": [
    {
     "name": "stdout",
     "output_type": "stream",
     "text": [
      "(1000, 32, 32, 3)\n"
     ]
    }
   ],
   "source": [
    "food_class = os.listdir(os.path.join(data_dir,foods_sorted[30]))\n",
    "data_x4 = [plt.imread(os.path.join(data_dir, foods_sorted[30], food_class[0]))]\n",
    "\n",
    "for i in range(1,1000):\n",
    "        data_x4 = np.concatenate([data_x4, [(plt.imread(os.path.join(data_dir, foods_sorted[30], food_class[i])))]])\n",
    "\n",
    "print(data_x4.shape)"
   ]
  },
  {
   "cell_type": "code",
   "execution_count": 10,
   "metadata": {},
   "outputs": [
    {
     "name": "stdout",
     "output_type": "stream",
     "text": [
      "(10000, 32, 32, 3)\n"
     ]
    }
   ],
   "source": [
    "for j in range(31,40):\n",
    "    food_class = os.listdir(os.path.join(data_dir,foods_sorted[j]))\n",
    "    for i in range(0,1000):\n",
    "        data_x4 = np.concatenate([data_x4, [(plt.imread(os.path.join(data_dir, foods_sorted[j], food_class[i])))]])\n",
    "        \n",
    "print(data_x4.shape)"
   ]
  },
  {
   "cell_type": "code",
   "execution_count": 11,
   "metadata": {},
   "outputs": [
    {
     "name": "stdout",
     "output_type": "stream",
     "text": [
      "(1000, 32, 32, 3)\n"
     ]
    }
   ],
   "source": [
    "food_class = os.listdir(os.path.join(data_dir,foods_sorted[40]))\n",
    "data_x5 = [plt.imread(os.path.join(data_dir, foods_sorted[40], food_class[0]))]\n",
    "\n",
    "for i in range(1,1000):\n",
    "        data_x5 = np.concatenate([data_x5, [(plt.imread(os.path.join(data_dir, foods_sorted[40], food_class[i])))]])\n",
    "\n",
    "print(data_x5.shape)"
   ]
  },
  {
   "cell_type": "code",
   "execution_count": 12,
   "metadata": {},
   "outputs": [
    {
     "name": "stdout",
     "output_type": "stream",
     "text": [
      "(10000, 32, 32, 3)\n"
     ]
    }
   ],
   "source": [
    "for j in range(41,50):\n",
    "    food_class = os.listdir(os.path.join(data_dir,foods_sorted[j]))\n",
    "    for i in range(0,1000):\n",
    "        data_x5 = np.concatenate([data_x5, [(plt.imread(os.path.join(data_dir, foods_sorted[j], food_class[i])))]])\n",
    "        \n",
    "print(data_x5.shape)"
   ]
  },
  {
   "cell_type": "code",
   "execution_count": 13,
   "metadata": {},
   "outputs": [
    {
     "name": "stdout",
     "output_type": "stream",
     "text": [
      "(1000, 32, 32, 3)\n"
     ]
    }
   ],
   "source": [
    "food_class = os.listdir(os.path.join(data_dir,foods_sorted[50]))\n",
    "data_x6 = [plt.imread(os.path.join(data_dir, foods_sorted[50], food_class[0]))]\n",
    "\n",
    "for i in range(1,1000):\n",
    "        data_x6 = np.concatenate([data_x6, [(plt.imread(os.path.join(data_dir, foods_sorted[50], food_class[i])))]])\n",
    "\n",
    "print(data_x6.shape)"
   ]
  },
  {
   "cell_type": "code",
   "execution_count": 14,
   "metadata": {},
   "outputs": [
    {
     "name": "stdout",
     "output_type": "stream",
     "text": [
      "(10000, 32, 32, 3)\n"
     ]
    }
   ],
   "source": [
    "for j in range(51,60):\n",
    "    food_class = os.listdir(os.path.join(data_dir,foods_sorted[j]))\n",
    "    for i in range(0,1000):\n",
    "        data_x6 = np.concatenate([data_x6, [(plt.imread(os.path.join(data_dir, foods_sorted[j], food_class[i])))]])\n",
    "        \n",
    "print(data_x6.shape)"
   ]
  },
  {
   "cell_type": "code",
   "execution_count": 15,
   "metadata": {},
   "outputs": [
    {
     "name": "stdout",
     "output_type": "stream",
     "text": [
      "(1000, 32, 32, 3)\n"
     ]
    }
   ],
   "source": [
    "food_class = os.listdir(os.path.join(data_dir,foods_sorted[60]))\n",
    "data_x7 = [plt.imread(os.path.join(data_dir, foods_sorted[60], food_class[0]))]\n",
    "\n",
    "for i in range(1,1000):\n",
    "        data_x7 = np.concatenate([data_x7, [(plt.imread(os.path.join(data_dir, foods_sorted[60], food_class[i])))]])\n",
    "\n",
    "print(data_x7.shape)"
   ]
  },
  {
   "cell_type": "code",
   "execution_count": 16,
   "metadata": {},
   "outputs": [
    {
     "name": "stdout",
     "output_type": "stream",
     "text": [
      "(10000, 32, 32, 3)\n"
     ]
    }
   ],
   "source": [
    "for j in range(61,70):\n",
    "    food_class = os.listdir(os.path.join(data_dir,foods_sorted[j]))\n",
    "    for i in range(0,1000):\n",
    "        data_x7 = np.concatenate([data_x7, [(plt.imread(os.path.join(data_dir, foods_sorted[j], food_class[i])))]])\n",
    "        \n",
    "print(data_x7.shape)"
   ]
  },
  {
   "cell_type": "code",
   "execution_count": 17,
   "metadata": {},
   "outputs": [
    {
     "name": "stdout",
     "output_type": "stream",
     "text": [
      "(1000, 32, 32, 3)\n"
     ]
    }
   ],
   "source": [
    "food_class = os.listdir(os.path.join(data_dir,foods_sorted[70]))\n",
    "data_x8 = [plt.imread(os.path.join(data_dir, foods_sorted[70], food_class[0]))]\n",
    "\n",
    "for i in range(1,1000):\n",
    "        data_x8 = np.concatenate([data_x8, [(plt.imread(os.path.join(data_dir, foods_sorted[70], food_class[i])))]])\n",
    "\n",
    "print(data_x8.shape)"
   ]
  },
  {
   "cell_type": "code",
   "execution_count": 18,
   "metadata": {},
   "outputs": [
    {
     "name": "stdout",
     "output_type": "stream",
     "text": [
      "(10000, 32, 32, 3)\n"
     ]
    }
   ],
   "source": [
    "for j in range(71,80):\n",
    "    food_class = os.listdir(os.path.join(data_dir,foods_sorted[j]))\n",
    "    for i in range(0,1000):\n",
    "        data_x8 = np.concatenate([data_x8, [(plt.imread(os.path.join(data_dir, foods_sorted[j], food_class[i])))]])\n",
    "        \n",
    "print(data_x8.shape)"
   ]
  },
  {
   "cell_type": "code",
   "execution_count": 19,
   "metadata": {},
   "outputs": [
    {
     "name": "stdout",
     "output_type": "stream",
     "text": [
      "(1000, 32, 32, 3)\n"
     ]
    }
   ],
   "source": [
    "food_class = os.listdir(os.path.join(data_dir,foods_sorted[80]))\n",
    "data_x9 = [plt.imread(os.path.join(data_dir, foods_sorted[80], food_class[0]))]\n",
    "\n",
    "for i in range(1,1000):\n",
    "        data_x9 = np.concatenate([data_x9, [(plt.imread(os.path.join(data_dir, foods_sorted[80], food_class[i])))]])\n",
    "\n",
    "print(data_x9.shape)"
   ]
  },
  {
   "cell_type": "code",
   "execution_count": 20,
   "metadata": {},
   "outputs": [
    {
     "name": "stdout",
     "output_type": "stream",
     "text": [
      "(10000, 32, 32, 3)\n"
     ]
    }
   ],
   "source": [
    "for j in range(81,90):\n",
    "    food_class = os.listdir(os.path.join(data_dir,foods_sorted[j]))\n",
    "    for i in range(0,1000):\n",
    "        data_x9 = np.concatenate([data_x9, [(plt.imread(os.path.join(data_dir, foods_sorted[j], food_class[i])))]])\n",
    "        \n",
    "print(data_x9.shape)"
   ]
  },
  {
   "cell_type": "code",
   "execution_count": 21,
   "metadata": {},
   "outputs": [
    {
     "name": "stdout",
     "output_type": "stream",
     "text": [
      "(1000, 32, 32, 3)\n"
     ]
    }
   ],
   "source": [
    "food_class = os.listdir(os.path.join(data_dir,foods_sorted[90]))\n",
    "data_x10 = [plt.imread(os.path.join(data_dir, foods_sorted[90], food_class[0]))]\n",
    "\n",
    "for i in range(1,1000):\n",
    "        data_x10 = np.concatenate([data_x10, [(plt.imread(os.path.join(data_dir, foods_sorted[90], food_class[i])))]])\n",
    "\n",
    "print(data_x10.shape)"
   ]
  },
  {
   "cell_type": "code",
   "execution_count": 22,
   "metadata": {},
   "outputs": [
    {
     "name": "stdout",
     "output_type": "stream",
     "text": [
      "(10000, 32, 32, 3)\n"
     ]
    }
   ],
   "source": [
    "for j in range(91,100):\n",
    "    food_class = os.listdir(os.path.join(data_dir,foods_sorted[j]))\n",
    "    for i in range(0,1000):\n",
    "        data_x10 = np.concatenate([data_x10, [(plt.imread(os.path.join(data_dir, foods_sorted[j], food_class[i])))]])\n",
    "        \n",
    "print(data_x10.shape)"
   ]
  },
  {
   "cell_type": "code",
   "execution_count": 23,
   "metadata": {},
   "outputs": [
    {
     "name": "stdout",
     "output_type": "stream",
     "text": [
      "(100000, 32, 32, 3)\n"
     ]
    }
   ],
   "source": [
    "# Combine individual numpy arrays for x data for each batch of 10 classes all into one big numpy array\n",
    "data_x = np.concatenate([data_x1, data_x2, data_x3])\n",
    "data_x = np.concatenate([data_x, data_x4, data_x5])\n",
    "data_x = np.concatenate([data_x, data_x6, data_x7])\n",
    "data_x = np.concatenate([data_x, data_x8, data_x9])\n",
    "data_x = np.concatenate([data_x, data_x10])\n",
    "\n",
    "print(data_x.shape)"
   ]
  },
  {
   "cell_type": "code",
   "execution_count": 24,
   "metadata": {},
   "outputs": [],
   "source": [
    "# Save x data to 3 separate compressed numpy files since GitHub does not allow for the storage of files over 100 MB\n",
    "np.savez_compressed('food_101_array_data_x_1.npz', data_x[0:34000])\n",
    "np.savez_compressed('food_101_array_data_x_2.npz', data_x[34000:68000])\n",
    "np.savez_compressed('food_101_array_data_x_3.npz', data_x[68000:100000])"
   ]
  },
  {
   "cell_type": "code",
   "execution_count": 25,
   "metadata": {},
   "outputs": [
    {
     "name": "stdout",
     "output_type": "stream",
     "text": [
      "(100000,)\n"
     ]
    }
   ],
   "source": [
    "# Create y data containing 100 class labels\n",
    "data_y = np.full((1000), 0, dtype=int)\n",
    "for i in range(1,100):\n",
    "    data_y = np.concatenate([data_y, np.full((1000), i, dtype=int)])\n",
    "\n",
    "print(data_y.shape)"
   ]
  },
  {
   "cell_type": "code",
   "execution_count": 26,
   "metadata": {},
   "outputs": [],
   "source": [
    "# Save y data to a compressed numpy file\n",
    "np.savez_compressed('food_101_array_data_y.npz', data_y)"
   ]
  }
 ],
 "metadata": {
  "kernelspec": {
   "display_name": "Python 3",
   "language": "python",
   "name": "python3"
  },
  "language_info": {
   "codemirror_mode": {
    "name": "ipython",
    "version": 3
   },
   "file_extension": ".py",
   "mimetype": "text/x-python",
   "name": "python",
   "nbconvert_exporter": "python",
   "pygments_lexer": "ipython3",
   "version": "3.8.2"
  }
 },
 "nbformat": 4,
 "nbformat_minor": 4
}
