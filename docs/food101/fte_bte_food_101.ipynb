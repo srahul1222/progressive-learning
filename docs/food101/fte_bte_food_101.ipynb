{
 "cells": [
  {
   "cell_type": "markdown",
   "metadata": {},
   "source": [
    "# FTE/BTE Experiment for food-101\n",
    "\n",
    "The progressive learning package utilizes representation ensembling algorithms to sequentially learn a representation for each task and ensemble both old and new representations for all future decisions. \n",
    "\n",
    "Here, a representation ensembling algorithm based on decision forests (Lifelong Forest) demonstrate forward and backward knowledge transfer of tasks on the food-101 dataset. The experiment reproduces the benchmarking adversarial experiment ran in the paper \"A General Approach to Progressive Learning\" by Vogelstein, et al (2020). The following is a link to the aforementioned paper: https://arxiv.org/pdf/2004.12908.pdf  \n",
    "\n",
    "### Import necessary packages and modules"
   ]
  },
  {
   "cell_type": "code",
   "execution_count": 1,
   "metadata": {},
   "outputs": [],
   "source": [
    "import numpy as np\n",
    "import tensorflow as tf\n",
    "import keras\n",
    "import os\n",
    "import random\n",
    "import pandas as pd\n",
    "import matplotlib.pyplot as plt"
   ]
  },
  {
   "cell_type": "markdown",
   "metadata": {},
   "source": [
    "### Load food-101 data - UPDATE THIS\n",
    "We load the food-101 dataset from Keras, and store it in a variable. The training and test partitions are concatenated into one variable called `data_x`. The data is obtained from ."
   ]
  },
  {
   "cell_type": "code",
   "execution_count": 2,
   "metadata": {},
   "outputs": [
    {
     "name": "stdout",
     "output_type": "stream",
     "text": [
      "(100000, 32, 32, 3)\n"
     ]
    }
   ],
   "source": [
    "# load dict of arrays\n",
    "dict_data_x = np.load('food_101_array_data_x.npz')\n",
    "# extract the first array\n",
    "data_x = dict_data_x['arr_0']\n",
    "# print the array shape\n",
    "print(data_x.shape)"
   ]
  },
  {
   "cell_type": "code",
   "execution_count": 3,
   "metadata": {},
   "outputs": [
    {
     "name": "stdout",
     "output_type": "stream",
     "text": [
      "(100000,)\n"
     ]
    }
   ],
   "source": [
    "# load dict of arrays\n",
    "dict_data_y = np.load('food_101_array_data_y.npz')\n",
    "# extract the first array\n",
    "data_y = dict_data_y['arr_0']\n",
    "# print the array shape\n",
    "print(data_y.shape)"
   ]
  },
  {
   "cell_type": "markdown",
   "metadata": {},
   "source": [
    "### Define hyperparameters for the model and preprocess data\n",
    "Running the cells below will define the hyperparameters the experimental setting \n",
    "\n",
    "`num_points_per_task`: The number of points per task "
   ]
  },
  {
   "cell_type": "code",
   "execution_count": 4,
   "metadata": {},
   "outputs": [],
   "source": [
    "num_points_per_task = 900"
   ]
  },
  {
   "cell_type": "markdown",
   "metadata": {},
   "source": [
    "### Train the model and perform validation\n",
    "\n",
    "#### run_parallel_exp: \n",
    "Wrapper method for the `LF_experiment` function which declares and trains the model, and performs validation with respect to the test data to compute the error of the model at a particular iteration"
   ]
  },
  {
   "cell_type": "code",
   "execution_count": 5,
   "metadata": {},
   "outputs": [
    {
     "name": "stdout",
     "output_type": "stream",
     "text": [
      "Starting Task 0 For Fold 1 For Slot 0\n",
      "Accuracy Across Tasks: [0.241]\n",
      "Starting Task 1 For Fold 1 For Slot 0\n",
      "Accuracy Across Tasks: [0.241, 0.26]\n",
      "Starting Task 2 For Fold 1 For Slot 0\n",
      "Accuracy Across Tasks: [0.241, 0.26, 0.26]\n",
      "Starting Task 3 For Fold 1 For Slot 0\n",
      "Accuracy Across Tasks: [0.241, 0.26, 0.26, 0.272]\n",
      "Starting Task 4 For Fold 1 For Slot 0\n",
      "Accuracy Across Tasks: [0.241, 0.26, 0.26, 0.272, 0.286]\n",
      "Starting Task 5 For Fold 1 For Slot 0\n",
      "Accuracy Across Tasks: [0.241, 0.26, 0.26, 0.272, 0.286, 0.282]\n",
      "Starting Task 6 For Fold 1 For Slot 0\n",
      "Accuracy Across Tasks: [0.241, 0.26, 0.26, 0.272, 0.286, 0.282, 0.286]\n",
      "Starting Task 7 For Fold 1 For Slot 0\n",
      "Accuracy Across Tasks: [0.241, 0.26, 0.26, 0.272, 0.286, 0.282, 0.286, 0.294]\n",
      "Starting Task 8 For Fold 1 For Slot 0\n",
      "Accuracy Across Tasks: [0.241, 0.26, 0.26, 0.272, 0.286, 0.282, 0.286, 0.294, 0.294]\n",
      "Starting Task 9 For Fold 1 For Slot 0\n",
      "Accuracy Across Tasks: [0.241, 0.26, 0.26, 0.272, 0.286, 0.282, 0.286, 0.294, 0.294, 0.293]\n",
      "Starting Task 0 For Fold 1 For Slot 0\n",
      "Accuracy Across Tasks: [0.239]\n",
      "Starting Task 1 For Fold 1 For Slot 0\n",
      "Accuracy Across Tasks: [0.239, 0.252]\n",
      "Starting Task 2 For Fold 1 For Slot 0\n",
      "Accuracy Across Tasks: [0.239, 0.252, 0.264]\n",
      "Starting Task 3 For Fold 1 For Slot 0\n",
      "Accuracy Across Tasks: [0.239, 0.252, 0.264, 0.27]\n",
      "Starting Task 4 For Fold 1 For Slot 0\n",
      "Accuracy Across Tasks: [0.239, 0.252, 0.264, 0.27, 0.272]\n",
      "Starting Task 5 For Fold 1 For Slot 0\n",
      "Accuracy Across Tasks: [0.239, 0.252, 0.264, 0.27, 0.272, 0.269]\n",
      "Starting Task 6 For Fold 1 For Slot 0\n",
      "Accuracy Across Tasks: [0.239, 0.252, 0.264, 0.27, 0.272, 0.269, 0.274]\n",
      "Starting Task 7 For Fold 1 For Slot 0\n",
      "Accuracy Across Tasks: [0.239, 0.252, 0.264, 0.27, 0.272, 0.269, 0.274, 0.273]\n",
      "Starting Task 8 For Fold 1 For Slot 0\n",
      "Accuracy Across Tasks: [0.239, 0.252, 0.264, 0.27, 0.272, 0.269, 0.274, 0.273, 0.276]\n",
      "Starting Task 9 For Fold 1 For Slot 0\n",
      "Accuracy Across Tasks: [0.239, 0.252, 0.264, 0.27, 0.272, 0.269, 0.274, 0.273, 0.276, 0.273]\n",
      "Starting Task 0 For Fold 1 For Slot 0\n",
      "Accuracy Across Tasks: [0.228]\n",
      "Starting Task 1 For Fold 1 For Slot 0\n",
      "Accuracy Across Tasks: [0.228, 0.235]\n",
      "Starting Task 2 For Fold 1 For Slot 0\n",
      "Accuracy Across Tasks: [0.228, 0.235, 0.246]\n",
      "Starting Task 3 For Fold 1 For Slot 0\n",
      "Accuracy Across Tasks: [0.228, 0.235, 0.246, 0.247]\n",
      "Starting Task 4 For Fold 1 For Slot 0\n",
      "Accuracy Across Tasks: [0.228, 0.235, 0.246, 0.247, 0.242]\n",
      "Starting Task 5 For Fold 1 For Slot 0\n",
      "Accuracy Across Tasks: [0.228, 0.235, 0.246, 0.247, 0.242, 0.243]\n",
      "Starting Task 6 For Fold 1 For Slot 0\n",
      "Accuracy Across Tasks: [0.228, 0.235, 0.246, 0.247, 0.242, 0.243, 0.25]\n",
      "Starting Task 7 For Fold 1 For Slot 0\n",
      "Accuracy Across Tasks: [0.228, 0.235, 0.246, 0.247, 0.242, 0.243, 0.25, 0.247]\n",
      "Starting Task 8 For Fold 1 For Slot 0\n",
      "Accuracy Across Tasks: [0.228, 0.235, 0.246, 0.247, 0.242, 0.243, 0.25, 0.247, 0.254]\n",
      "Starting Task 9 For Fold 1 For Slot 0\n",
      "Accuracy Across Tasks: [0.228, 0.235, 0.246, 0.247, 0.242, 0.243, 0.25, 0.247, 0.254, 0.253]\n",
      "Starting Task 0 For Fold 1 For Slot 0\n",
      "Accuracy Across Tasks: [0.235]\n",
      "Starting Task 1 For Fold 1 For Slot 0\n",
      "Accuracy Across Tasks: [0.235, 0.247]\n",
      "Starting Task 2 For Fold 1 For Slot 0\n",
      "Accuracy Across Tasks: [0.235, 0.247, 0.246]\n",
      "Starting Task 3 For Fold 1 For Slot 0\n",
      "Accuracy Across Tasks: [0.235, 0.247, 0.246, 0.249]\n",
      "Starting Task 4 For Fold 1 For Slot 0\n",
      "Accuracy Across Tasks: [0.235, 0.247, 0.246, 0.249, 0.255]\n",
      "Starting Task 5 For Fold 1 For Slot 0\n",
      "Accuracy Across Tasks: [0.235, 0.247, 0.246, 0.249, 0.255, 0.254]\n",
      "Starting Task 6 For Fold 1 For Slot 0\n",
      "Accuracy Across Tasks: [0.235, 0.247, 0.246, 0.249, 0.255, 0.254, 0.254]\n",
      "Starting Task 7 For Fold 1 For Slot 0\n",
      "Accuracy Across Tasks: [0.235, 0.247, 0.246, 0.249, 0.255, 0.254, 0.254, 0.256]\n",
      "Starting Task 8 For Fold 1 For Slot 0\n",
      "Accuracy Across Tasks: [0.235, 0.247, 0.246, 0.249, 0.255, 0.254, 0.254, 0.256, 0.255]\n",
      "Starting Task 9 For Fold 1 For Slot 0\n",
      "Accuracy Across Tasks: [0.235, 0.247, 0.246, 0.249, 0.255, 0.254, 0.254, 0.256, 0.255, 0.256]\n",
      "Starting Task 0 For Fold 1 For Slot 0\n",
      "Accuracy Across Tasks: [0.251]\n",
      "Starting Task 1 For Fold 1 For Slot 0\n",
      "Accuracy Across Tasks: [0.251, 0.274]\n",
      "Starting Task 2 For Fold 1 For Slot 0\n",
      "Accuracy Across Tasks: [0.251, 0.274, 0.272]\n",
      "Starting Task 3 For Fold 1 For Slot 0\n",
      "Accuracy Across Tasks: [0.251, 0.274, 0.272, 0.266]\n",
      "Starting Task 4 For Fold 1 For Slot 0\n",
      "Accuracy Across Tasks: [0.251, 0.274, 0.272, 0.266, 0.273]\n",
      "Starting Task 5 For Fold 1 For Slot 0\n",
      "Accuracy Across Tasks: [0.251, 0.274, 0.272, 0.266, 0.273, 0.274]\n",
      "Starting Task 6 For Fold 1 For Slot 0\n",
      "Accuracy Across Tasks: [0.251, 0.274, 0.272, 0.266, 0.273, 0.274, 0.275]\n",
      "Starting Task 7 For Fold 1 For Slot 0\n",
      "Accuracy Across Tasks: [0.251, 0.274, 0.272, 0.266, 0.273, 0.274, 0.275, 0.275]\n",
      "Starting Task 8 For Fold 1 For Slot 0\n",
      "Accuracy Across Tasks: [0.251, 0.274, 0.272, 0.266, 0.273, 0.274, 0.275, 0.275, 0.284]\n",
      "Starting Task 9 For Fold 1 For Slot 0\n",
      "Accuracy Across Tasks: [0.251, 0.274, 0.272, 0.266, 0.273, 0.274, 0.275, 0.275, 0.284, 0.28]\n",
      "Starting Task 0 For Fold 1 For Slot 0\n",
      "Accuracy Across Tasks: [0.241]\n",
      "Starting Task 1 For Fold 1 For Slot 0\n",
      "Accuracy Across Tasks: [0.241, 0.262]\n",
      "Starting Task 2 For Fold 1 For Slot 0\n",
      "Accuracy Across Tasks: [0.241, 0.262, 0.268]\n",
      "Starting Task 3 For Fold 1 For Slot 0\n",
      "Accuracy Across Tasks: [0.241, 0.262, 0.268, 0.283]\n",
      "Starting Task 4 For Fold 1 For Slot 0\n",
      "Accuracy Across Tasks: [0.241, 0.262, 0.268, 0.283, 0.29]\n",
      "Starting Task 5 For Fold 1 For Slot 0\n",
      "Accuracy Across Tasks: [0.241, 0.262, 0.268, 0.283, 0.29, 0.277]\n",
      "Starting Task 6 For Fold 1 For Slot 0\n",
      "Accuracy Across Tasks: [0.241, 0.262, 0.268, 0.283, 0.29, 0.277, 0.276]\n",
      "Starting Task 7 For Fold 1 For Slot 0\n",
      "Accuracy Across Tasks: [0.241, 0.262, 0.268, 0.283, 0.29, 0.277, 0.276, 0.277]\n",
      "Starting Task 8 For Fold 1 For Slot 0\n",
      "Accuracy Across Tasks: [0.241, 0.262, 0.268, 0.283, 0.29, 0.277, 0.276, 0.277, 0.275]\n",
      "Starting Task 9 For Fold 1 For Slot 0\n",
      "Accuracy Across Tasks: [0.241, 0.262, 0.268, 0.283, 0.29, 0.277, 0.276, 0.277, 0.275, 0.277]\n",
      "Starting Task 0 For Fold 1 For Slot 0\n",
      "Accuracy Across Tasks: [0.257]\n",
      "Starting Task 1 For Fold 1 For Slot 0\n",
      "Accuracy Across Tasks: [0.257, 0.247]\n",
      "Starting Task 2 For Fold 1 For Slot 0\n",
      "Accuracy Across Tasks: [0.257, 0.247, 0.259]\n",
      "Starting Task 3 For Fold 1 For Slot 0\n",
      "Accuracy Across Tasks: [0.257, 0.247, 0.259, 0.252]\n",
      "Starting Task 4 For Fold 1 For Slot 0\n",
      "Accuracy Across Tasks: [0.257, 0.247, 0.259, 0.252, 0.256]\n",
      "Starting Task 5 For Fold 1 For Slot 0\n",
      "Accuracy Across Tasks: [0.257, 0.247, 0.259, 0.252, 0.256, 0.245]\n",
      "Starting Task 6 For Fold 1 For Slot 0\n",
      "Accuracy Across Tasks: [0.257, 0.247, 0.259, 0.252, 0.256, 0.245, 0.243]\n",
      "Starting Task 7 For Fold 1 For Slot 0\n",
      "Accuracy Across Tasks: [0.257, 0.247, 0.259, 0.252, 0.256, 0.245, 0.243, 0.245]\n",
      "Starting Task 8 For Fold 1 For Slot 0\n",
      "Accuracy Across Tasks: [0.257, 0.247, 0.259, 0.252, 0.256, 0.245, 0.243, 0.245, 0.248]\n",
      "Starting Task 9 For Fold 1 For Slot 0\n",
      "Accuracy Across Tasks: [0.257, 0.247, 0.259, 0.252, 0.256, 0.245, 0.243, 0.245, 0.248, 0.247]\n",
      "Starting Task 0 For Fold 1 For Slot 0\n",
      "Accuracy Across Tasks: [0.27]\n",
      "Starting Task 1 For Fold 1 For Slot 0\n",
      "Accuracy Across Tasks: [0.27, 0.278]\n",
      "Starting Task 2 For Fold 1 For Slot 0\n",
      "Accuracy Across Tasks: [0.27, 0.278, 0.282]\n",
      "Starting Task 3 For Fold 1 For Slot 0\n",
      "Accuracy Across Tasks: [0.27, 0.278, 0.282, 0.29]\n",
      "Starting Task 4 For Fold 1 For Slot 0\n",
      "Accuracy Across Tasks: [0.27, 0.278, 0.282, 0.29, 0.29]\n",
      "Starting Task 5 For Fold 1 For Slot 0\n",
      "Accuracy Across Tasks: [0.27, 0.278, 0.282, 0.29, 0.29, 0.289]\n",
      "Starting Task 6 For Fold 1 For Slot 0\n",
      "Accuracy Across Tasks: [0.27, 0.278, 0.282, 0.29, 0.29, 0.289, 0.286]\n",
      "Starting Task 7 For Fold 1 For Slot 0\n",
      "Accuracy Across Tasks: [0.27, 0.278, 0.282, 0.29, 0.29, 0.289, 0.286, 0.288]\n",
      "Starting Task 8 For Fold 1 For Slot 0\n",
      "Accuracy Across Tasks: [0.27, 0.278, 0.282, 0.29, 0.29, 0.289, 0.286, 0.288, 0.282]\n",
      "Starting Task 9 For Fold 1 For Slot 0\n",
      "Accuracy Across Tasks: [0.27, 0.278, 0.282, 0.29, 0.29, 0.289, 0.286, 0.288, 0.282, 0.281]\n",
      "Starting Task 0 For Fold 1 For Slot 0\n",
      "Accuracy Across Tasks: [0.253]\n",
      "Starting Task 1 For Fold 1 For Slot 0\n",
      "Accuracy Across Tasks: [0.253, 0.261]\n",
      "Starting Task 2 For Fold 1 For Slot 0\n",
      "Accuracy Across Tasks: [0.253, 0.261, 0.267]\n",
      "Starting Task 3 For Fold 1 For Slot 0\n"
     ]
    },
    {
     "name": "stdout",
     "output_type": "stream",
     "text": [
      "Accuracy Across Tasks: [0.253, 0.261, 0.267, 0.275]\n",
      "Starting Task 4 For Fold 1 For Slot 0\n",
      "Accuracy Across Tasks: [0.253, 0.261, 0.267, 0.275, 0.272]\n",
      "Starting Task 5 For Fold 1 For Slot 0\n",
      "Accuracy Across Tasks: [0.253, 0.261, 0.267, 0.275, 0.272, 0.274]\n",
      "Starting Task 6 For Fold 1 For Slot 0\n",
      "Accuracy Across Tasks: [0.253, 0.261, 0.267, 0.275, 0.272, 0.274, 0.279]\n",
      "Starting Task 7 For Fold 1 For Slot 0\n",
      "Accuracy Across Tasks: [0.253, 0.261, 0.267, 0.275, 0.272, 0.274, 0.279, 0.28]\n",
      "Starting Task 8 For Fold 1 For Slot 0\n",
      "Accuracy Across Tasks: [0.253, 0.261, 0.267, 0.275, 0.272, 0.274, 0.279, 0.28, 0.282]\n",
      "Starting Task 9 For Fold 1 For Slot 0\n",
      "Accuracy Across Tasks: [0.253, 0.261, 0.267, 0.275, 0.272, 0.274, 0.279, 0.28, 0.282, 0.285]\n",
      "Starting Task 0 For Fold 1 For Slot 0\n",
      "Accuracy Across Tasks: [0.247]\n",
      "Starting Task 1 For Fold 1 For Slot 0\n",
      "Accuracy Across Tasks: [0.247, 0.262]\n",
      "Starting Task 2 For Fold 1 For Slot 0\n",
      "Accuracy Across Tasks: [0.247, 0.262, 0.275]\n",
      "Starting Task 3 For Fold 1 For Slot 0\n",
      "Accuracy Across Tasks: [0.247, 0.262, 0.275, 0.278]\n",
      "Starting Task 4 For Fold 1 For Slot 0\n",
      "Accuracy Across Tasks: [0.247, 0.262, 0.275, 0.278, 0.285]\n",
      "Starting Task 5 For Fold 1 For Slot 0\n",
      "Accuracy Across Tasks: [0.247, 0.262, 0.275, 0.278, 0.285, 0.282]\n",
      "Starting Task 6 For Fold 1 For Slot 0\n",
      "Accuracy Across Tasks: [0.247, 0.262, 0.275, 0.278, 0.285, 0.282, 0.287]\n",
      "Starting Task 7 For Fold 1 For Slot 0\n",
      "Accuracy Across Tasks: [0.247, 0.262, 0.275, 0.278, 0.285, 0.282, 0.287, 0.285]\n",
      "Starting Task 8 For Fold 1 For Slot 0\n",
      "Accuracy Across Tasks: [0.247, 0.262, 0.275, 0.278, 0.285, 0.282, 0.287, 0.285, 0.289]\n",
      "Starting Task 9 For Fold 1 For Slot 0\n",
      "Accuracy Across Tasks: [0.247, 0.262, 0.275, 0.278, 0.285, 0.282, 0.287, 0.285, 0.289, 0.289]\n",
      "[0    0.241\n",
      "1    0.260\n",
      "2    0.260\n",
      "3    0.272\n",
      "4    0.286\n",
      "5    0.282\n",
      "6    0.286\n",
      "7    0.294\n",
      "8    0.294\n",
      "9    0.293\n",
      "Name: task_1_accuracy, dtype: float64, 0    0.239\n",
      "1    0.252\n",
      "2    0.264\n",
      "3    0.270\n",
      "4    0.272\n",
      "5    0.269\n",
      "6    0.274\n",
      "7    0.273\n",
      "8    0.276\n",
      "9    0.273\n",
      "Name: task_1_accuracy, dtype: float64, 0    0.228\n",
      "1    0.235\n",
      "2    0.246\n",
      "3    0.247\n",
      "4    0.242\n",
      "5    0.243\n",
      "6    0.250\n",
      "7    0.247\n",
      "8    0.254\n",
      "9    0.253\n",
      "Name: task_1_accuracy, dtype: float64, 0    0.235\n",
      "1    0.247\n",
      "2    0.246\n",
      "3    0.249\n",
      "4    0.255\n",
      "5    0.254\n",
      "6    0.254\n",
      "7    0.256\n",
      "8    0.255\n",
      "9    0.256\n",
      "Name: task_1_accuracy, dtype: float64, 0    0.251\n",
      "1    0.274\n",
      "2    0.272\n",
      "3    0.266\n",
      "4    0.273\n",
      "5    0.274\n",
      "6    0.275\n",
      "7    0.275\n",
      "8    0.284\n",
      "9    0.280\n",
      "Name: task_1_accuracy, dtype: float64, 0    0.241\n",
      "1    0.262\n",
      "2    0.268\n",
      "3    0.283\n",
      "4    0.290\n",
      "5    0.277\n",
      "6    0.276\n",
      "7    0.277\n",
      "8    0.275\n",
      "9    0.277\n",
      "Name: task_1_accuracy, dtype: float64, 0    0.257\n",
      "1    0.247\n",
      "2    0.259\n",
      "3    0.252\n",
      "4    0.256\n",
      "5    0.245\n",
      "6    0.243\n",
      "7    0.245\n",
      "8    0.248\n",
      "9    0.247\n",
      "Name: task_1_accuracy, dtype: float64, 0    0.270\n",
      "1    0.278\n",
      "2    0.282\n",
      "3    0.290\n",
      "4    0.290\n",
      "5    0.289\n",
      "6    0.286\n",
      "7    0.288\n",
      "8    0.282\n",
      "9    0.281\n",
      "Name: task_1_accuracy, dtype: float64, 0    0.253\n",
      "1    0.261\n",
      "2    0.267\n",
      "3    0.275\n",
      "4    0.272\n",
      "5    0.274\n",
      "6    0.279\n",
      "7    0.280\n",
      "8    0.282\n",
      "9    0.285\n",
      "Name: task_1_accuracy, dtype: float64, 0    0.247\n",
      "1    0.262\n",
      "2    0.275\n",
      "3    0.278\n",
      "4    0.285\n",
      "5    0.282\n",
      "6    0.287\n",
      "7    0.285\n",
      "8    0.289\n",
      "9    0.289\n",
      "Name: task_1_accuracy, dtype: float64]\n"
     ]
    }
   ],
   "source": [
    "from functions.fte_bte_food_101_functions import run_parallel_exp\n",
    "acc = []\n",
    "for rep in range(10):\n",
    "    df_list = run_parallel_exp(data_x, data_y, num_points_per_task)\n",
    "    acc.append(df_list[\"task_1_accuracy\"])"
   ]
  },
  {
   "cell_type": "code",
   "execution_count": 6,
   "metadata": {},
   "outputs": [
    {
     "name": "stdout",
     "output_type": "stream",
     "text": [
      "[0.24620000000000003, 0.2578, 0.26389999999999997, 0.2682, 0.2721, 0.26890000000000003, 0.271, 0.27199999999999996, 0.27390000000000003, 0.27340000000000003]\n"
     ]
    }
   ],
   "source": [
    "acc_x = []\n",
    "acc_y = []\n",
    "for y in range(10):\n",
    "    for x in range(10):\n",
    "        acc_x.append(acc[x][y])\n",
    "    acc_y.append(np.mean(acc_x))\n",
    "    acc_x = []\n",
    "print(acc_y)"
   ]
  },
  {
   "cell_type": "markdown",
   "metadata": {},
   "source": [
    "### Function to calculate backward transfer efficiency\n",
    "\n",
    "The backward transfer efficiency of $f_n$ for task $t$ given $n$ samples is \n",
    "$$BTE^t (f_n) := \\mathbb{E} [R^t (f_n^{<t} )/R^t (f_n)]$$\n",
    "\n",
    "We say an algorithm achieves backward transfer for task $t$ if and only if $BTE^t(f_n) > 1$. Intuitively, this means that the progressive learner has used data associated with new tasks to improve performance on previous tasks. \n",
    "\n",
    "#### calc_bte:\n",
    "Function used to calculate bte across tasks, averaged across all shifts and folds"
   ]
  },
  {
   "cell_type": "code",
   "execution_count": 7,
   "metadata": {},
   "outputs": [
    {
     "name": "stdout",
     "output_type": "stream",
     "text": [
      "[1.         1.04711617 1.07189277 1.08935825 1.10519903 1.09220146\n",
      " 1.10073111 1.10479285 1.11251015 1.11047929]\n"
     ]
    }
   ],
   "source": [
    "from functions.fte_bte_food_101_functions import calc_bte\n",
    "\n",
    "#btes = calc_bte(df_list, 1, 1)\n",
    "#btes = df_list[\"task_1_accuracy\"]/df_list[\"task_1_accuracy\"][0]\n",
    "btes = acc_y/acc_y[0]\n",
    "print(btes)"
   ]
  },
  {
   "cell_type": "markdown",
   "metadata": {},
   "source": [
    "### Plotting the backward transfer efficiency\n",
    "Run cell to generate plot of backward transfer efficiency of the Lifelong Classification Forest algorithm. We see that we achieve backwards transfer overall that increases as more tasks are seen.\n",
    "\n",
    "#### plot_bte:\n",
    "Function used to plot bte across tasks"
   ]
  },
  {
   "cell_type": "code",
   "execution_count": 8,
   "metadata": {},
   "outputs": [
    {
     "data": {
      "image/png": "[encoded data removed]",
      "text/plain": [
       "<Figure size 720x576 with 1 Axes>"
      ]
     },
     "metadata": {
      "needs_background": "light"
     },
     "output_type": "display_data"
    }
   ],
   "source": [
    "from functions.fte_bte_food_101_functions import plot_bte\n",
    "\n",
    "plot_bte(btes)"
   ]
  },
  {
   "cell_type": "code",
   "execution_count": 11,
   "metadata": {},
   "outputs": [],
   "source": [
    "import seaborn as sns"
   ]
  },
  {
   "cell_type": "code",
   "execution_count": 12,
   "metadata": {},
   "outputs": [
    {
     "data": {
      "image/png": "[encoded data removed]",
      "text/plain": [
       "<Figure size 720x576 with 1 Axes>"
      ]
     },
     "metadata": {
      "needs_background": "light"
     },
     "output_type": "display_data"
    }
   ],
   "source": [
    "clr = [\"#00008B\"]\n",
    "c = sns.color_palette(clr, n_colors=len(clr))\n",
    "fig, ax = plt.subplots(1, 1, figsize=(10, 8))\n",
    "\n",
    "# Plot the results\n",
    "ax.plot(np.arange(1, 11), btes, c=c[0], label=\"L2F\", linewidth=3)\n",
    "\n",
    "# Format the plot, and show result\n",
    "plt.ylim(0.92, 1.14)\n",
    "plt.xlim(1, 10)\n",
    "ax.set_yticks([0.92, 0.96, 1, 1.04, 1.08, 1.12])\n",
    "ax.yaxis.set_ticks([0.92, 0.96, 1, 1.04, 1.08, 1.12])\n",
    "ax.set_xticks(np.arange(1, 11))\n",
    "ax.tick_params(labelsize=20)\n",
    "ax.set_xlabel(\"Number of tasks seen\", fontsize=24)\n",
    "ax.set_ylabel(\"Backward Transfer Efficiency\", fontsize=24)\n",
    "ax.set_title(\"BTE for food-101\", fontsize=24)\n",
    "ax.hlines(1, 1, 10, colors=\"grey\", linestyles=\"dashed\", linewidth=1.5)\n",
    "right_side = ax.spines[\"right\"]\n",
    "right_side.set_visible(False)\n",
    "top_side = ax.spines[\"top\"]\n",
    "top_side.set_visible(False)\n",
    "plt.tight_layout()\n",
    "ax.legend(loc=\"center left\", bbox_to_anchor=(1, 0.5), fontsize=22)\n",
    "plt.show()"
   ]
  }
 ],
 "metadata": {
  "kernelspec": {
   "display_name": "Python 3",
   "language": "python",
   "name": "python3"
  },
  "language_info": {
   "codemirror_mode": {
    "name": "ipython",
    "version": 3
   },
   "file_extension": ".py",
   "mimetype": "text/x-python",
   "name": "python",
   "nbconvert_exporter": "python",
   "pygments_lexer": "ipython3",
   "version": "3.8.2"
  }
 },
 "nbformat": 4,
 "nbformat_minor": 2
}
