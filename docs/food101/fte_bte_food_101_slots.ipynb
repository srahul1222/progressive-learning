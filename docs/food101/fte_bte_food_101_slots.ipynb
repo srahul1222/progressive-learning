{
 "cells": [
  {
   "cell_type": "markdown",
   "metadata": {},
   "source": [
    "# FTE/BTE Experiment for food-101\n",
    "\n",
    "The progressive learning package utilizes representation ensembling algorithms to sequentially learn a representation for each task and ensemble both old and new representations for all future decisions. \n",
    "\n",
    "Here, a representation ensembling algorithm based on decision forests (Lifelong Forest) demonstrate forward and backward knowledge transfer of tasks on the food-101 dataset. The experiment reproduces the benchmarking adversarial experiment ran in the paper \"A General Approach to Progressive Learning\" by Vogelstein, et al (2020). The following is a link to the aforementioned paper: https://arxiv.org/pdf/2004.12908.pdf  \n",
    "\n",
    "### Import necessary packages and modules"
   ]
  },
  {
   "cell_type": "code",
   "execution_count": 1,
   "metadata": {},
   "outputs": [],
   "source": [
    "import numpy as np\n",
    "import tensorflow as tf\n",
    "import keras\n",
    "import os\n",
    "import random\n",
    "import pandas as pd\n",
    "import matplotlib.pyplot as plt\n",
    "from multiprocessing import Pool\n",
    "from joblib import Parallel, delayed\n",
    "from itertools import product"
   ]
  },
  {
   "cell_type": "markdown",
   "metadata": {},
   "source": [
    "### Load food-101 data - UPDATE THIS\n",
    "We load the food-101 dataset from Keras, and store it in a variable. The training and test partitions are concatenated into one variable called `data_x`. The data is obtained from ."
   ]
  },
  {
   "cell_type": "code",
   "execution_count": 2,
   "metadata": {},
   "outputs": [
    {
     "name": "stdout",
     "output_type": "stream",
     "text": [
      "(100000, 32, 32, 3)\n"
     ]
    }
   ],
   "source": [
    "# load dict of arrays\n",
    "dict_data_x = np.load('food_101_array_data_x.npz')\n",
    "# extract the first array\n",
    "data_x = dict_data_x['arr_0']\n",
    "# print the array shape\n",
    "print(data_x.shape)"
   ]
  },
  {
   "cell_type": "code",
   "execution_count": 3,
   "metadata": {},
   "outputs": [
    {
     "name": "stdout",
     "output_type": "stream",
     "text": [
      "(100000,)\n"
     ]
    }
   ],
   "source": [
    "# load dict of arrays\n",
    "dict_data_y = np.load('food_101_array_data_y.npz')\n",
    "# extract the first array\n",
    "data_y = dict_data_y['arr_0']\n",
    "# print the array shape\n",
    "print(data_y.shape)"
   ]
  },
  {
   "cell_type": "markdown",
   "metadata": {},
   "source": [
    "### Define hyperparameters for the model and preprocess data\n",
    "Running the cells below will define the hyperparameters the experimental setting \n",
    "\n",
    "`num_points_per_task`: The number of points per task "
   ]
  },
  {
   "cell_type": "code",
   "execution_count": 4,
   "metadata": {},
   "outputs": [],
   "source": [
    "num_points_per_task = 900"
   ]
  },
  {
   "cell_type": "markdown",
   "metadata": {},
   "source": [
    "### Train the model and perform validation\n",
    "\n",
    "#### run_parallel_exp: \n",
    "Wrapper method for the `LF_experiment` function which declares and trains the model, and performs validation with respect to the test data to compute the error of the model at a particular iteration"
   ]
  },
  {
   "cell_type": "code",
   "execution_count": 5,
   "metadata": {},
   "outputs": [],
   "source": [
    "from functions.fte_bte_food_101_functions_slots import run_bte_exp\n",
    "\n",
    "def run_parallel_exp(slot):\n",
    "    \n",
    "    df_list = run_bte_exp(data_x, data_y, num_points_per_task, slot = slot)\n",
    "    \n",
    "    return df_list"
   ]
  },
  {
   "cell_type": "code",
   "execution_count": 6,
   "metadata": {},
   "outputs": [
    {
     "name": "stdout",
     "output_type": "stream",
     "text": [
      "Starting Task 0 For Slot 5\n",
      "Starting Task 0 For Slot 4\n",
      "Starting Task 0 For Slot 1\n",
      "Starting Task 0 For Slot 0\n",
      "Starting Task 0 For Slot 2\n",
      "Starting Task 0 For Slot 6\n",
      "Starting Task 0 For Slot 7\n",
      "Starting Task 0 For Slot 3\n",
      "Accuracy Across Tasks: [0.236]\n",
      "Starting Task 1 For Slot 4\n",
      "Accuracy Across Tasks: [0.246]\n",
      "Starting Task 1 For Slot 3\n",
      "Accuracy Across Tasks: [0.242]\n",
      "Starting Task 1 For Slot 6\n",
      "Accuracy Across Tasks: [0.235]\n",
      "Starting Task 1 For Slot 7\n",
      "Accuracy Across Tasks: [0.235]\n",
      "Starting Task 1 For Slot 5\n",
      "Accuracy Across Tasks: [0.212]\n",
      "Starting Task 1 For Slot 2\n",
      "Accuracy Across Tasks: [0.24]\n",
      "Starting Task 1 For Slot 1\n",
      "Accuracy Across Tasks: [0.257]\n",
      "Starting Task 1 For Slot 0\n",
      "Accuracy Across Tasks: [0.24, 0.25]\n",
      "Starting Task 2 For Slot 1\n",
      "Accuracy Across Tasks: [0.235, 0.25]\n",
      "Starting Task 2 For Slot 5\n",
      "Accuracy Across Tasks: [0.212, 0.229]\n",
      "Starting Task 2 For Slot 2\n",
      "Accuracy Across Tasks: [0.236, 0.254]\n",
      "Starting Task 2 For Slot 4\n",
      "Accuracy Across Tasks: [0.235, 0.257]\n",
      "Starting Task 2 For Slot 7\n",
      "Accuracy Across Tasks: [0.242, 0.258]\n",
      "Starting Task 2 For Slot 6\n",
      "Accuracy Across Tasks: [0.257, 0.275]\n",
      "Starting Task 2 For Slot 0\n",
      "Accuracy Across Tasks: [0.246, 0.261]\n",
      "Starting Task 2 For Slot 3\n",
      "Accuracy Across Tasks: [0.235, 0.25, 0.266]\n",
      "Starting Task 3 For Slot 5\n",
      "Accuracy Across Tasks: [0.24, 0.25, 0.249]\n",
      "Starting Task 3 For Slot 1\n",
      "Accuracy Across Tasks: [0.212, 0.229, 0.246]\n",
      "Starting Task 3 For Slot 2\n",
      "Accuracy Across Tasks: [0.242, 0.258, 0.269]\n",
      "Starting Task 3 For Slot 6\n",
      "Accuracy Across Tasks: [0.235, 0.257, 0.255]\n",
      "Starting Task 3 For Slot 7\n",
      "Accuracy Across Tasks: [0.236, 0.254, 0.271]\n",
      "Starting Task 3 For Slot 4\n",
      "Accuracy Across Tasks: [0.257, 0.275, 0.288]\n",
      "Starting Task 3 For Slot 0\n",
      "Accuracy Across Tasks: [0.246, 0.261, 0.274]\n",
      "Starting Task 3 For Slot 3\n",
      "Accuracy Across Tasks: [0.24, 0.25, 0.249, 0.248]\n",
      "Starting Task 4 For Slot 1\n",
      "Accuracy Across Tasks: [0.235, 0.25, 0.266, 0.261]\n",
      "Starting Task 4 For Slot 5\n",
      "Accuracy Across Tasks: [0.235, 0.257, 0.255, 0.266]\n",
      "Starting Task 4 For Slot 7\n",
      "Accuracy Across Tasks: [0.242, 0.258, 0.269, 0.274]\n",
      "Starting Task 4 For Slot 6\n",
      "Accuracy Across Tasks: [0.236, 0.254, 0.271, 0.271]\n",
      "Starting Task 4 For Slot 4\n",
      "Accuracy Across Tasks: [0.212, 0.229, 0.246, 0.249]\n",
      "Starting Task 4 For Slot 2\n",
      "Accuracy Across Tasks: [0.257, 0.275, 0.288, 0.282]\n",
      "Starting Task 4 For Slot 0\n",
      "Accuracy Across Tasks: [0.246, 0.261, 0.274, 0.265]\n",
      "Starting Task 4 For Slot 3\n",
      "Accuracy Across Tasks: [0.236, 0.254, 0.271, 0.271, 0.265]\n",
      "Starting Task 5 For Slot 4\n",
      "Accuracy Across Tasks: [0.24, 0.25, 0.249, 0.248, 0.254]\n",
      "Starting Task 5 For Slot 1\n",
      "Accuracy Across Tasks: [0.246, 0.261, 0.274, 0.265, 0.274]\n",
      "Starting Task 5 For Slot 3\n",
      "Accuracy Across Tasks: [0.257, 0.275, 0.288, 0.282, 0.294]\n",
      "Starting Task 5 For Slot 0\n",
      "Accuracy Across Tasks: [0.242, 0.258, 0.269, 0.274, 0.272]\n",
      "Starting Task 5 For Slot 6\n",
      "Accuracy Across Tasks: [0.235, 0.257, 0.255, 0.266, 0.267]\n",
      "Starting Task 5 For Slot 7\n",
      "Accuracy Across Tasks: [0.235, 0.25, 0.266, 0.261, 0.266]\n",
      "Starting Task 5 For Slot 5\n",
      "Accuracy Across Tasks: [0.212, 0.229, 0.246, 0.249, 0.255]\n",
      "Starting Task 5 For Slot 2\n",
      "Accuracy Across Tasks: [0.236, 0.254, 0.271, 0.271, 0.265, 0.267]\n",
      "Starting Task 6 For Slot 4\n",
      "Accuracy Across Tasks: [0.24, 0.25, 0.249, 0.248, 0.254, 0.255]\n",
      "Starting Task 6 For Slot 1\n",
      "Accuracy Across Tasks: [0.246, 0.261, 0.274, 0.265, 0.274, 0.264]\n",
      "Starting Task 6 For Slot 3\n",
      "Accuracy Across Tasks: [0.235, 0.25, 0.266, 0.261, 0.266, 0.275]\n",
      "Starting Task 6 For Slot 5\n",
      "Accuracy Across Tasks: [0.242, 0.258, 0.269, 0.274, 0.272, 0.27]\n",
      "Starting Task 6 For Slot 6\n",
      "Accuracy Across Tasks: [0.235, 0.257, 0.255, 0.266, 0.267, 0.269]\n",
      "Starting Task 6 For Slot 7\n",
      "Accuracy Across Tasks: [0.257, 0.275, 0.288, 0.282, 0.294, 0.298]\n",
      "Starting Task 6 For Slot 0\n",
      "Accuracy Across Tasks: [0.212, 0.229, 0.246, 0.249, 0.255, 0.253]\n",
      "Starting Task 6 For Slot 2\n",
      "Accuracy Across Tasks: [0.236, 0.254, 0.271, 0.271, 0.265, 0.267, 0.266]\n",
      "Starting Task 7 For Slot 4\n",
      "Accuracy Across Tasks: [0.24, 0.25, 0.249, 0.248, 0.254, 0.255, 0.257]\n",
      "Starting Task 7 For Slot 1\n",
      "Accuracy Across Tasks: [0.246, 0.261, 0.274, 0.265, 0.274, 0.264, 0.269]\n",
      "Starting Task 7 For Slot 3\n",
      "Accuracy Across Tasks: [0.235, 0.25, 0.266, 0.261, 0.266, 0.275, 0.276]\n",
      "Starting Task 7 For Slot 5\n",
      "Accuracy Across Tasks: [0.242, 0.258, 0.269, 0.274, 0.272, 0.27, 0.277]\n",
      "Starting Task 7 For Slot 6\n",
      "Accuracy Across Tasks: [0.235, 0.257, 0.255, 0.266, 0.267, 0.269, 0.265]\n",
      "Starting Task 7 For Slot 7\n",
      "Accuracy Across Tasks: [0.257, 0.275, 0.288, 0.282, 0.294, 0.298, 0.301]\n",
      "Starting Task 7 For Slot 0\n",
      "Accuracy Across Tasks: [0.212, 0.229, 0.246, 0.249, 0.255, 0.253, 0.26]\n",
      "Starting Task 7 For Slot 2\n",
      "Accuracy Across Tasks: [0.236, 0.254, 0.271, 0.271, 0.265, 0.267, 0.266, 0.273]\n",
      "Starting Task 8 For Slot 4\n",
      "Accuracy Across Tasks: [0.24, 0.25, 0.249, 0.248, 0.254, 0.255, 0.257, 0.256]\n",
      "Starting Task 8 For Slot 1\n",
      "Accuracy Across Tasks: [0.235, 0.257, 0.255, 0.266, 0.267, 0.269, 0.265, 0.266]\n",
      "Starting Task 8 For Slot 7\n",
      "Accuracy Across Tasks: [0.242, 0.258, 0.269, 0.274, 0.272, 0.27, 0.277, 0.268]\n",
      "Starting Task 8 For Slot 6\n",
      "Accuracy Across Tasks: [0.235, 0.25, 0.266, 0.261, 0.266, 0.275, 0.276, 0.28]\n",
      "Starting Task 8 For Slot 5\n",
      "Accuracy Across Tasks: [0.246, 0.261, 0.274, 0.265, 0.274, 0.264, 0.269, 0.266]\n",
      "Starting Task 8 For Slot 3\n",
      "Accuracy Across Tasks: [0.257, 0.275, 0.288, 0.282, 0.294, 0.298, 0.301, 0.305]\n",
      "Starting Task 8 For Slot 0\n",
      "Accuracy Across Tasks: [0.212, 0.229, 0.246, 0.249, 0.255, 0.253, 0.26, 0.264]\n",
      "Starting Task 8 For Slot 2\n",
      "Accuracy Across Tasks: [0.236, 0.254, 0.271, 0.271, 0.265, 0.267, 0.266, 0.273, 0.272]\n",
      "Starting Task 9 For Slot 4\n",
      "Accuracy Across Tasks: [0.235, 0.257, 0.255, 0.266, 0.267, 0.269, 0.265, 0.266, 0.275]\n",
      "Starting Task 9 For Slot 7\n",
      "Accuracy Across Tasks: [0.24, 0.25, 0.249, 0.248, 0.254, 0.255, 0.257, 0.256, 0.253]\n",
      "Starting Task 9 For Slot 1\n",
      "Accuracy Across Tasks: [0.242, 0.258, 0.269, 0.274, 0.272, 0.27, 0.277, 0.268, 0.272]\n",
      "Starting Task 9 For Slot 6\n",
      "Accuracy Across Tasks: [0.235, 0.25, 0.266, 0.261, 0.266, 0.275, 0.276, 0.28, 0.273]\n",
      "Starting Task 9 For Slot 5\n",
      "Accuracy Across Tasks: [0.212, 0.229, 0.246, 0.249, 0.255, 0.253, 0.26, 0.264, 0.266]\n",
      "Starting Task 9 For Slot 2\n",
      "Accuracy Across Tasks: [0.246, 0.261, 0.274, 0.265, 0.274, 0.264, 0.269, 0.266, 0.269]\n",
      "Starting Task 9 For Slot 3\n",
      "Accuracy Across Tasks: [0.257, 0.275, 0.288, 0.282, 0.294, 0.298, 0.301, 0.305, 0.3]\n",
      "Starting Task 9 For Slot 0\n",
      "Accuracy Across Tasks: [0.235, 0.257, 0.255, 0.266, 0.267, 0.269, 0.265, 0.266, 0.275, 0.271]\n",
      "Accuracy Across Tasks: [0.242, 0.258, 0.269, 0.274, 0.272, 0.27, 0.277, 0.268, 0.272, 0.273]\n",
      "Accuracy Across Tasks: [0.236, 0.254, 0.271, 0.271, 0.265, 0.267, 0.266, 0.273, 0.272, 0.275]\n",
      "Starting Task 0 For Slot 8\n",
      "Accuracy Across Tasks: [0.24, 0.25, 0.249, 0.248, 0.254, 0.255, 0.257, 0.256, 0.253, 0.253]\n",
      "Accuracy Across Tasks: [0.235, 0.25, 0.266, 0.261, 0.266, 0.275, 0.276, 0.28, 0.273, 0.281]\n",
      "Starting Task 0 For Slot 9\n",
      "Accuracy Across Tasks: [0.212, 0.229, 0.246, 0.249, 0.255, 0.253, 0.26, 0.264, 0.266, 0.263]\n",
      "Accuracy Across Tasks: [0.246, 0.261, 0.274, 0.265, 0.274, 0.264, 0.269, 0.266, 0.269, 0.274]\n",
      "Accuracy Across Tasks: [0.257, 0.275, 0.288, 0.282, 0.294, 0.298, 0.301, 0.305, 0.3, 0.298]\n",
      "Accuracy Across Tasks: [0.233]\n",
      "Starting Task 1 For Slot 8\n",
      "Accuracy Across Tasks: [0.231]\n",
      "Starting Task 1 For Slot 9\n",
      "Accuracy Across Tasks: [0.231, 0.236]\n",
      "Starting Task 2 For Slot 9\n",
      "Accuracy Across Tasks: [0.233, 0.254]\n",
      "Starting Task 2 For Slot 8\n",
      "Accuracy Across Tasks: [0.231, 0.236, 0.237]\n",
      "Starting Task 3 For Slot 9\n",
      "Accuracy Across Tasks: [0.233, 0.254, 0.261]\n",
      "Starting Task 3 For Slot 8\n",
      "Accuracy Across Tasks: [0.231, 0.236, 0.237, 0.246]\n",
      "Starting Task 4 For Slot 9\n",
      "Accuracy Across Tasks: [0.233, 0.254, 0.261, 0.261]\n",
      "Starting Task 4 For Slot 8\n",
      "Accuracy Across Tasks: [0.231, 0.236, 0.237, 0.246, 0.241]\n",
      "Starting Task 5 For Slot 9\n",
      "Accuracy Across Tasks: [0.233, 0.254, 0.261, 0.261, 0.262]\n",
      "Starting Task 5 For Slot 8\n",
      "Accuracy Across Tasks: [0.231, 0.236, 0.237, 0.246, 0.241, 0.253]\n",
      "Starting Task 6 For Slot 9\n",
      "Accuracy Across Tasks: [0.233, 0.254, 0.261, 0.261, 0.262, 0.264]\n",
      "Starting Task 6 For Slot 8\n",
      "Accuracy Across Tasks: [0.231, 0.236, 0.237, 0.246, 0.241, 0.253, 0.253]\n",
      "Starting Task 7 For Slot 9\n",
      "Accuracy Across Tasks: [0.233, 0.254, 0.261, 0.261, 0.262, 0.264, 0.263]\n",
      "Starting Task 7 For Slot 8\n",
      "Accuracy Across Tasks: [0.231, 0.236, 0.237, 0.246, 0.241, 0.253, 0.253, 0.26]\n",
      "Starting Task 8 For Slot 9\n",
      "Accuracy Across Tasks: [0.233, 0.254, 0.261, 0.261, 0.262, 0.264, 0.263, 0.263]\n",
      "Starting Task 8 For Slot 8\n",
      "Accuracy Across Tasks: [0.231, 0.236, 0.237, 0.246, 0.241, 0.253, 0.253, 0.26, 0.261]\n",
      "Starting Task 9 For Slot 9\n",
      "Accuracy Across Tasks: [0.233, 0.254, 0.261, 0.261, 0.262, 0.264, 0.263, 0.263, 0.268]\n",
      "Starting Task 9 For Slot 8\n",
      "Accuracy Across Tasks: [0.231, 0.236, 0.237, 0.246, 0.241, 0.253, 0.253, 0.26, 0.261, 0.265]\n",
      "Accuracy Across Tasks: [0.233, 0.254, 0.261, 0.261, 0.262, 0.264, 0.263, 0.263, 0.268, 0.264]\n"
     ]
    }
   ],
   "source": [
    "slots = np.arange(0,10,1)\n",
    "acc = []\n",
    "\n",
    "with Pool(8) as p:\n",
    "    # Multiple sets of errors for each set of angles are appended to a larger array containing errors for all angles\n",
    "    # Calling LF_experiment will run the experiment at a new angle of rotation\n",
    "    acc.append(\n",
    "        p.map(run_parallel_exp, slots)\n",
    "    )"
   ]
  },
  {
   "cell_type": "code",
   "execution_count": 22,
   "metadata": {},
   "outputs": [
    {
     "name": "stdout",
     "output_type": "stream",
     "text": [
      "[0.2367, 0.2524, 0.2616, 0.26230000000000003, 0.265, 0.26680000000000004, 0.26870000000000005, 0.27009999999999995, 0.27090000000000003, 0.2717]\n"
     ]
    }
   ],
   "source": [
    "acc_x = []\n",
    "acc_y = []\n",
    "for y in range(10):\n",
    "    for x in range(10):\n",
    "        acc_x.append(acc[0][x]['task_1_accuracy'][y])\n",
    "    acc_y.append(np.mean(acc_x))\n",
    "    acc_x = []\n",
    "print(acc_y)"
   ]
  },
  {
   "cell_type": "markdown",
   "metadata": {},
   "source": [
    "### Function to calculate backward transfer efficiency\n",
    "\n",
    "The backward transfer efficiency of $f_n$ for task $t$ given $n$ samples is \n",
    "$$BTE^t (f_n) := \\mathbb{E} [R^t (f_n^{<t} )/R^t (f_n)]$$\n",
    "\n",
    "We say an algorithm achieves backward transfer for task $t$ if and only if $BTE^t(f_n) > 1$. Intuitively, this means that the progressive learner has used data associated with new tasks to improve performance on previous tasks. \n",
    "\n",
    "#### calc_bte:\n",
    "Function used to calculate bte across tasks, averaged across all shifts and folds"
   ]
  },
  {
   "cell_type": "code",
   "execution_count": 23,
   "metadata": {},
   "outputs": [
    {
     "name": "stdout",
     "output_type": "stream",
     "text": [
      "[1.         1.06632869 1.10519645 1.10815378 1.11956063 1.12716519\n",
      " 1.13519223 1.14110689 1.14448669 1.1478665 ]\n"
     ]
    }
   ],
   "source": [
    "#from functions.fte_bte_food_101_functions_slots import calc_bte\n",
    "\n",
    "#btes = calc_bte(df_list, 1, 1)\n",
    "#btes = df_list[\"task_1_accuracy\"]/df_list[\"task_1_accuracy\"][0]\n",
    "btes = acc_y/acc_y[0]\n",
    "print(btes)"
   ]
  },
  {
   "cell_type": "markdown",
   "metadata": {},
   "source": [
    "### Plotting the backward transfer efficiency\n",
    "Run cell to generate plot of backward transfer efficiency of the Lifelong Classification Forest algorithm. We see that we achieve backwards transfer overall that increases as more tasks are seen.\n",
    "\n",
    "#### plot_bte:\n",
    "Function used to plot bte across tasks"
   ]
  },
  {
   "cell_type": "code",
   "execution_count": null,
   "metadata": {},
   "outputs": [],
   "source": [
    "from functions.fte_bte_food_101_functions_slots import plot_bte\n",
    "\n",
    "plot_bte(btes)"
   ]
  },
  {
   "cell_type": "code",
   "execution_count": 24,
   "metadata": {},
   "outputs": [],
   "source": [
    "import seaborn as sns"
   ]
  },
  {
   "cell_type": "code",
   "execution_count": 25,
   "metadata": {},
   "outputs": [
    {
     "data": {
      "image/png": "[encoded data removed]",
      "text/plain": [
       "<Figure size 720x576 with 1 Axes>"
      ]
     },
     "metadata": {
      "needs_background": "light"
     },
     "output_type": "display_data"
    }
   ],
   "source": [
    "clr = [\"#00008B\"]\n",
    "c = sns.color_palette(clr, n_colors=len(clr))\n",
    "fig, ax = plt.subplots(1, 1, figsize=(10, 8))\n",
    "\n",
    "# Plot the results\n",
    "ax.plot(np.arange(1, 11), btes, c=c[0], label=\"L2F\", linewidth=3)\n",
    "\n",
    "# Format the plot, and show result\n",
    "plt.ylim(0.92, 1.16)\n",
    "plt.xlim(1, 10)\n",
    "ax.set_yticks([0.92, 0.96, 1, 1.04, 1.08, 1.12, 1.16])\n",
    "ax.yaxis.set_ticks([0.92, 0.96, 1, 1.04, 1.08, 1.12, 1.16])\n",
    "ax.set_xticks(np.arange(1, 11))\n",
    "ax.tick_params(labelsize=20)\n",
    "ax.set_xlabel(\"Number of tasks seen\", fontsize=24)\n",
    "ax.set_ylabel(\"Backward Transfer Efficiency\", fontsize=24)\n",
    "ax.set_title(\"BTE for food-101\", fontsize=24)\n",
    "ax.hlines(1, 1, 10, colors=\"grey\", linestyles=\"dashed\", linewidth=1.5)\n",
    "right_side = ax.spines[\"right\"]\n",
    "right_side.set_visible(False)\n",
    "top_side = ax.spines[\"top\"]\n",
    "top_side.set_visible(False)\n",
    "plt.tight_layout()\n",
    "ax.legend(loc=\"center left\", bbox_to_anchor=(1, 0.5), fontsize=22)\n",
    "plt.show()"
   ]
  }
 ],
 "metadata": {
  "kernelspec": {
   "display_name": "Python 3",
   "language": "python",
   "name": "python3"
  },
  "language_info": {
   "codemirror_mode": {
    "name": "ipython",
    "version": 3
   },
   "file_extension": ".py",
   "mimetype": "text/x-python",
   "name": "python",
   "nbconvert_exporter": "python",
   "pygments_lexer": "ipython3",
   "version": "3.8.2"
  }
 },
 "nbformat": 4,
 "nbformat_minor": 2
}
